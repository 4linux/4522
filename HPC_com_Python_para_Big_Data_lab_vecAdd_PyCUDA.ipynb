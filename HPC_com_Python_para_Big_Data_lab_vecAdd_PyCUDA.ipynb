{
  "nbformat": 4,
  "nbformat_minor": 0,
  "metadata": {
    "accelerator": "GPU",
    "colab": {
      "name": "HPC_com_Python_para_Big_Data_lab_vecAdd_PyCUDA.ipynb",
      "provenance": [],
      "collapsed_sections": []
    },
    "kernelspec": {
      "display_name": "Python 3",
      "language": "python",
      "name": "python3"
    },
    "language_info": {
      "codemirror_mode": {
        "name": "ipython",
        "version": 3
      },
      "file_extension": ".py",
      "mimetype": "text/x-python",
      "name": "python",
      "nbconvert_exporter": "python",
      "pygments_lexer": "ipython3",
      "version": "3.7.3"
    }
  },
  "cells": [
    {
      "cell_type": "code",
      "metadata": {
        "colab_type": "code",
        "id": "ylUaUanV1wBZ",
        "colab": {
          "base_uri": "https://localhost:8080/",
          "height": 209
        },
        "outputId": "ab145abb-2456-4641-f14c-64fc4ac077f6"
      },
      "source": [
        "!nvcc --version\n",
        "!gcc --version\n",
        "!g++ --version"
      ],
      "execution_count": 0,
      "outputs": [
        {
          "output_type": "stream",
          "text": [
            "nvcc: NVIDIA (R) Cuda compiler driver\n",
            "Copyright (c) 2005-2019 NVIDIA Corporation\n",
            "Built on Sun_Jul_28_19:07:16_PDT_2019\n",
            "Cuda compilation tools, release 10.1, V10.1.243\n",
            "gcc (Ubuntu 7.5.0-3ubuntu1~18.04) 7.5.0\n",
            "Copyright (C) 2017 Free Software Foundation, Inc.\n",
            "This is free software; see the source for copying conditions.  There is NO\n",
            "warranty; not even for MERCHANTABILITY or FITNESS FOR A PARTICULAR PURPOSE.\n",
            "\n"
          ],
          "name": "stdout"
        }
      ]
    },
    {
      "cell_type": "code",
      "metadata": {
        "colab_type": "code",
        "id": "TmF7cxQv1yaX",
        "colab": {}
      },
      "source": [
        "!sudo apt-get install python-numpy -y\n",
        "!sudo apt-get install build-essential python-dev python-setuptools libboost-python-dev libboost-thread-dev -y\n",
        "!apt-cache search pycuda\n",
        "!apt install libnvidia-compute-390 python3-pycuda"
      ],
      "execution_count": 0,
      "outputs": []
    },
    {
      "cell_type": "code",
      "metadata": {
        "id": "nJzQAv-6j4qt",
        "colab_type": "code",
        "colab": {}
      },
      "source": [
        "! apt --fix-broken install"
      ],
      "execution_count": 0,
      "outputs": []
    },
    {
      "cell_type": "code",
      "metadata": {
        "colab_type": "code",
        "id": "2fqabneS5agF",
        "colab": {}
      },
      "source": [
        "!apt-cache search pycuda\n",
        "!apt-get install python3-pycuda\n"
      ],
      "execution_count": 0,
      "outputs": []
    },
    {
      "cell_type": "code",
      "metadata": {
        "colab_type": "code",
        "id": "MRdlTrDV5Wg7",
        "colab": {}
      },
      "source": [
        "import pycuda.driver as cuda\n",
        "import pycuda.autoinit\n",
        "from pycuda.compiler import SourceModule\n",
        "import numpy as np\n",
        "import sys\n",
        "\n",
        "np.set_printoptions(threshold=sys.maxsize)\n",
        "\n",
        "\n",
        "ELEM_NUMBER = 1024\n",
        "BLOCK_SIZE = 256\n",
        "\n",
        "A = np.random.randint(0, 2, dtype=np.int, size=ELEM_NUMBER)\n",
        "print (A[-3:])\n",
        "B = np.random.randint(0, 2, dtype=np.int, size=ELEM_NUMBER)\n",
        "print (B[-3:])\n",
        "\n",
        "A_gpu = cuda.mem_alloc(A.nbytes)\n",
        "B_gpu = cuda.mem_alloc(B.nbytes)\n",
        "C_gpu = cuda.mem_alloc(A.nbytes)\n",
        "\n",
        "\n",
        "cuda.memcpy_htod(A_gpu, A)\n",
        "cuda.memcpy_htod(B_gpu, B)\n",
        "\n",
        "mod = SourceModule(\"\"\"\n",
        "    __global__ void vecAdd(long *A, long *B, long *result) {\n",
        "\n",
        "      unsigned idx = blockIdx.x * blockDim.x + threadIdx.x;\n",
        "      result[idx] = A[idx] + B[idx];\n",
        "    }\n",
        "  \"\"\")\n",
        "\n",
        "func = mod.get_function(\"vecAdd\")\n",
        "\n",
        "\n",
        "gridDim = ( int((A.size + BLOCK_SIZE - 1)/BLOCK_SIZE),1)\n",
        "blockDim = (BLOCK_SIZE,1,1)\n",
        "print(\"block: \"+str(blockDim)+\" grid: \"+str(gridDim))\n",
        "\n",
        "func(A_gpu, B_gpu, C_gpu, block=blockDim, grid=gridDim)\n",
        "\n",
        "C = np.empty_like(A)\n",
        "cuda.memcpy_dtoh(C, C_gpu)\n",
        "print (C[-3:])\n",
        "\n",
        "print(A.sum()+B.sum())\n",
        "print(C.sum())\n",
        "\n",
        "\n"
      ],
      "execution_count": 0,
      "outputs": []
    },
    {
      "cell_type": "code",
      "metadata": {
        "colab_type": "code",
        "id": "zr83SKsZeFF1",
        "colab": {}
      },
      "source": [
        "import pycuda.gpuarray as gpuarray\n",
        "import pycuda.driver as cuda\n",
        "import pycuda.autoinit\n",
        "import numpy  as np\n",
        "\n",
        "NUMBER_ELEMENT = 1024\n",
        "BLOCK_SIZE = 256\n",
        "\n",
        "A = np.random.randint(0, 2, dtype=np.int, size=NUMBER_ELEMENT)\n",
        "print (A)\n",
        "\n",
        "B = np.random.randint(0, 2, dtype=np.int, size=NUMBER_ELEMENT)\n",
        "print (B)\n",
        "\n",
        "A_gpu = gpuarray.to_gpu(A)\n",
        "print (A_gpu.get())\n",
        "\n",
        "B_gpu = gpuarray.to_gpu(B)\n",
        "print (B_gpu.get())\n",
        "\n",
        "C_gpu = gpuarray.to_gpu(np.empty(NUMBER_ELEMENT).astype(np.int))\n",
        "print (C_gpu.get())\n",
        "\n",
        "mod = SourceModule(\"\"\"\n",
        "    __global__ void vecAdd(long *A, long *B, long *result) {\n",
        "\n",
        "      unsigned idx = blockIdx.x * blockDim.x + threadIdx.x;\n",
        "      result[idx] = A[idx] + B[idx];\n",
        "    }\n",
        "  \"\"\")\n",
        "\n",
        "gridDim = ( int((A.size + BLOCK_SIZE - 1)/BLOCK_SIZE),1)\n",
        "blockDim = (BLOCK_SIZE,1,1)\n",
        "print(\"block: \"+str(blockDim)+\" grid: \"+str(gridDim))\n",
        "\n",
        "func = mod.get_function(\"vecAdd\")\n",
        "func(A_gpu, B_gpu, C_gpu, block=blockDim, grid=gridDim)\n",
        "\n",
        "result = C_gpu.get()\n",
        "print (result)\n",
        "\n",
        "print(A.sum()+B.sum())\n",
        "print(C.sum())\n"
      ],
      "execution_count": 0,
      "outputs": []
    }
  ]
}