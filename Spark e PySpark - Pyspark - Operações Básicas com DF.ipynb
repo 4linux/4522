{
 "cells": [
  {
   "cell_type": "code",
   "execution_count": 1,
   "metadata": {},
   "outputs": [],
   "source": [
    "from pyspark.sql import SparkSession"
   ]
  },
  {
   "cell_type": "code",
   "execution_count": 3,
   "metadata": {},
   "outputs": [],
   "source": [
    "spark = SparkSession.builder.appName(\"Basics\").getOrCreate()"
   ]
  },
  {
   "cell_type": "code",
   "execution_count": 5,
   "metadata": {},
   "outputs": [],
   "source": [
    "df = spark.read.json(\"/home/leonardo/4522/funcionarios.json\")"
   ]
  },
  {
   "cell_type": "code",
   "execution_count": 6,
   "metadata": {},
   "outputs": [
    {
     "name": "stdout",
     "output_type": "stream",
     "text": [
      "+---------+----------------+-------+---------------+-------+\n",
      "|    cargo|    departamento|id_func|           nome|salario|\n",
      "+---------+----------------+-------+---------------+-------+\n",
      "| Analista|        Projetos|      1|  Marcio Santos|   5000|\n",
      "|Instrutor|     Treinamento|      2|   Bruno Garcia|   4000|\n",
      "|Vendedora|          Vendas|      3|    Celia Silva|   3500|\n",
      "| Gerencia|Recursos Humanos|      4|   Beatriz Dias|   5500|\n",
      "|Instrutor|     Treinamento|      5| Sandro Correia|   4200|\n",
      "| Analista|        Projetos|      6|   Leticia Dias|   5100|\n",
      "| Analista|        Projetos|      7|   Cacio Farias|   5100|\n",
      "| Gerencia|   Administracao|      8|     Cezar Maia|   7000|\n",
      "|Vendedora|          Vendas|      9|   Amanda Nunes|   3500|\n",
      "|Vendedora|          Vendas|     10|   Paula Priore|   3500|\n",
      "| Analista|        Projetos|     11|     Carla Neto|   4000|\n",
      "|Vendedora|          Vendas|     12|   Marcia Costa|   2700|\n",
      "| Analista|Recursos Humanos|     13|  Luciana Prado|   4100|\n",
      "|Vendedora|          Vendas|     14| Roberta Amaral|   2800|\n",
      "|Instrutor|     Treinamento|     15|Rogerio Ribeiro|   4000|\n",
      "|Vendedora|          Vendas|     16|   Rosana Rocha|   3000|\n",
      "| Analista|        Projetos|     17|Claudio Queiroz|   6500|\n",
      "| Gerencia|   Administracao|     18|   Diego Chaves|   7500|\n",
      "|Instrutor|     Treinamento|     19|Sergio Nogueira|   5300|\n",
      "|Vendedora|          Vendas|     20|  Samantha Reis|   4000|\n",
      "+---------+----------------+-------+---------------+-------+\n",
      "\n"
     ]
    }
   ],
   "source": [
    "df.show()"
   ]
  },
  {
   "cell_type": "code",
   "execution_count": 7,
   "metadata": {},
   "outputs": [
    {
     "name": "stdout",
     "output_type": "stream",
     "text": [
      "root\n",
      " |-- cargo: string (nullable = true)\n",
      " |-- departamento: string (nullable = true)\n",
      " |-- id_func: long (nullable = true)\n",
      " |-- nome: string (nullable = true)\n",
      " |-- salario: long (nullable = true)\n",
      "\n"
     ]
    }
   ],
   "source": [
    "df.printSchema()"
   ]
  },
  {
   "cell_type": "code",
   "execution_count": 8,
   "metadata": {},
   "outputs": [
    {
     "data": {
      "text/plain": [
       "['cargo', 'departamento', 'id_func', 'nome', 'salario']"
      ]
     },
     "execution_count": 8,
     "metadata": {},
     "output_type": "execute_result"
    }
   ],
   "source": [
    "df.columns"
   ]
  },
  {
   "cell_type": "code",
   "execution_count": 9,
   "metadata": {},
   "outputs": [
    {
     "data": {
      "text/plain": [
       "<bound method DataFrame.describe of DataFrame[cargo: string, departamento: string, id_func: bigint, nome: string, salario: bigint]>"
      ]
     },
     "execution_count": 9,
     "metadata": {},
     "output_type": "execute_result"
    }
   ],
   "source": [
    "df.describe"
   ]
  },
  {
   "cell_type": "code",
   "execution_count": 10,
   "metadata": {},
   "outputs": [
    {
     "name": "stdout",
     "output_type": "stream",
     "text": [
      "+---------+----------------+-------+---------------+-------+\n",
      "|    cargo|    departamento|id_func|           nome|salario|\n",
      "+---------+----------------+-------+---------------+-------+\n",
      "| Analista|        Projetos|      1|  Marcio Santos|   5000|\n",
      "|Instrutor|     Treinamento|      2|   Bruno Garcia|   4000|\n",
      "|Vendedora|          Vendas|      3|    Celia Silva|   3500|\n",
      "| Gerencia|Recursos Humanos|      4|   Beatriz Dias|   5500|\n",
      "|Instrutor|     Treinamento|      5| Sandro Correia|   4200|\n",
      "| Analista|        Projetos|      6|   Leticia Dias|   5100|\n",
      "| Analista|        Projetos|      7|   Cacio Farias|   5100|\n",
      "| Gerencia|   Administracao|      8|     Cezar Maia|   7000|\n",
      "|Vendedora|          Vendas|      9|   Amanda Nunes|   3500|\n",
      "|Vendedora|          Vendas|     10|   Paula Priore|   3500|\n",
      "| Analista|        Projetos|     11|     Carla Neto|   4000|\n",
      "|Vendedora|          Vendas|     12|   Marcia Costa|   2700|\n",
      "| Analista|Recursos Humanos|     13|  Luciana Prado|   4100|\n",
      "|Vendedora|          Vendas|     14| Roberta Amaral|   2800|\n",
      "|Instrutor|     Treinamento|     15|Rogerio Ribeiro|   4000|\n",
      "|Vendedora|          Vendas|     16|   Rosana Rocha|   3000|\n",
      "| Analista|        Projetos|     17|Claudio Queiroz|   6500|\n",
      "| Gerencia|   Administracao|     18|   Diego Chaves|   7500|\n",
      "|Instrutor|     Treinamento|     19|Sergio Nogueira|   5300|\n",
      "|Vendedora|          Vendas|     20|  Samantha Reis|   4000|\n",
      "+---------+----------------+-------+---------------+-------+\n",
      "\n"
     ]
    }
   ],
   "source": [
    "df.show()"
   ]
  },
  {
   "cell_type": "code",
   "execution_count": 12,
   "metadata": {},
   "outputs": [],
   "source": [
    "from pyspark.sql.types import StructField,StringType,IntegerType,StructType"
   ]
  },
  {
   "cell_type": "code",
   "execution_count": 13,
   "metadata": {},
   "outputs": [],
   "source": [
    "data_schema = [StructField(\"cargo\", StringType(),\n",
    "True),StructField(\"departamento\", StringType(),\n",
    "True),StructField(\"id_func\", IntegerType(),\n",
    "True),StructField(\"nome\", StringType(),\n",
    "True),StructField(\"salario\", IntegerType(), True)]"
   ]
  },
  {
   "cell_type": "code",
   "execution_count": 14,
   "metadata": {},
   "outputs": [],
   "source": [
    "final_struc = StructType(fields=data_schema)"
   ]
  },
  {
   "cell_type": "code",
   "execution_count": 15,
   "metadata": {},
   "outputs": [],
   "source": [
    "df = spark.read.json('/home/leonardo/4522/funcionarios.json', schema=final_struc)"
   ]
  },
  {
   "cell_type": "code",
   "execution_count": 16,
   "metadata": {},
   "outputs": [
    {
     "name": "stdout",
     "output_type": "stream",
     "text": [
      "root\n",
      " |-- cargo: string (nullable = true)\n",
      " |-- departamento: string (nullable = true)\n",
      " |-- id_func: integer (nullable = true)\n",
      " |-- nome: string (nullable = true)\n",
      " |-- salario: integer (nullable = true)\n",
      "\n"
     ]
    }
   ],
   "source": [
    "df.printSchema()"
   ]
  },
  {
   "cell_type": "code",
   "execution_count": 17,
   "metadata": {},
   "outputs": [
    {
     "data": {
      "text/plain": [
       "Column<b'nome'>"
      ]
     },
     "execution_count": 17,
     "metadata": {},
     "output_type": "execute_result"
    }
   ],
   "source": [
    "df['nome']"
   ]
  },
  {
   "cell_type": "code",
   "execution_count": 18,
   "metadata": {},
   "outputs": [
    {
     "data": {
      "text/plain": [
       "pyspark.sql.column.Column"
      ]
     },
     "execution_count": 18,
     "metadata": {},
     "output_type": "execute_result"
    }
   ],
   "source": [
    "type(df['nome'])"
   ]
  },
  {
   "cell_type": "code",
   "execution_count": 19,
   "metadata": {},
   "outputs": [
    {
     "data": {
      "text/plain": [
       "DataFrame[nome: string]"
      ]
     },
     "execution_count": 19,
     "metadata": {},
     "output_type": "execute_result"
    }
   ],
   "source": [
    "df.select('nome')"
   ]
  },
  {
   "cell_type": "code",
   "execution_count": 20,
   "metadata": {},
   "outputs": [
    {
     "name": "stdout",
     "output_type": "stream",
     "text": [
      "+---------------+\n",
      "|           nome|\n",
      "+---------------+\n",
      "|  Marcio Santos|\n",
      "|   Bruno Garcia|\n",
      "|    Celia Silva|\n",
      "|   Beatriz Dias|\n",
      "| Sandro Correia|\n",
      "|   Leticia Dias|\n",
      "|   Cacio Farias|\n",
      "|     Cezar Maia|\n",
      "|   Amanda Nunes|\n",
      "|   Paula Priore|\n",
      "|     Carla Neto|\n",
      "|   Marcia Costa|\n",
      "|  Luciana Prado|\n",
      "| Roberta Amaral|\n",
      "|Rogerio Ribeiro|\n",
      "|   Rosana Rocha|\n",
      "|Claudio Queiroz|\n",
      "|   Diego Chaves|\n",
      "|Sergio Nogueira|\n",
      "|  Samantha Reis|\n",
      "+---------------+\n",
      "\n"
     ]
    }
   ],
   "source": [
    "df.select('nome').show()"
   ]
  },
  {
   "cell_type": "code",
   "execution_count": 21,
   "metadata": {},
   "outputs": [
    {
     "data": {
      "text/plain": [
       "[Row(cargo='Analista', departamento='Projetos', id_func=1, nome='Marcio Santos', salario=5000),\n",
       " Row(cargo='Instrutor', departamento='Treinamento', id_func=2, nome='Bruno Garcia', salario=4000),\n",
       " Row(cargo='Vendedora', departamento='Vendas', id_func=3, nome='Celia Silva', salario=3500),\n",
       " Row(cargo='Gerencia', departamento='Recursos Humanos', id_func=4, nome='Beatriz Dias', salario=5500),\n",
       " Row(cargo='Instrutor', departamento='Treinamento', id_func=5, nome='Sandro Correia', salario=4200)]"
      ]
     },
     "execution_count": 21,
     "metadata": {},
     "output_type": "execute_result"
    }
   ],
   "source": [
    "df.head(5)"
   ]
  },
  {
   "cell_type": "code",
   "execution_count": 22,
   "metadata": {},
   "outputs": [
    {
     "data": {
      "text/plain": [
       "DataFrame[nome: string, departamento: string]"
      ]
     },
     "execution_count": 22,
     "metadata": {},
     "output_type": "execute_result"
    }
   ],
   "source": [
    "df.select(['nome','departamento'])"
   ]
  },
  {
   "cell_type": "code",
   "execution_count": 23,
   "metadata": {},
   "outputs": [
    {
     "name": "stdout",
     "output_type": "stream",
     "text": [
      "+---------------+----------------+\n",
      "|           nome|    departamento|\n",
      "+---------------+----------------+\n",
      "|  Marcio Santos|        Projetos|\n",
      "|   Bruno Garcia|     Treinamento|\n",
      "|    Celia Silva|          Vendas|\n",
      "|   Beatriz Dias|Recursos Humanos|\n",
      "| Sandro Correia|     Treinamento|\n",
      "|   Leticia Dias|        Projetos|\n",
      "|   Cacio Farias|        Projetos|\n",
      "|     Cezar Maia|   Administracao|\n",
      "|   Amanda Nunes|          Vendas|\n",
      "|   Paula Priore|          Vendas|\n",
      "|     Carla Neto|        Projetos|\n",
      "|   Marcia Costa|          Vendas|\n",
      "|  Luciana Prado|Recursos Humanos|\n",
      "| Roberta Amaral|          Vendas|\n",
      "|Rogerio Ribeiro|     Treinamento|\n",
      "|   Rosana Rocha|          Vendas|\n",
      "|Claudio Queiroz|        Projetos|\n",
      "|   Diego Chaves|   Administracao|\n",
      "|Sergio Nogueira|     Treinamento|\n",
      "|  Samantha Reis|          Vendas|\n",
      "+---------------+----------------+\n",
      "\n"
     ]
    }
   ],
   "source": [
    "df.select(['nome','departamento']).show()"
   ]
  },
  {
   "cell_type": "code",
   "execution_count": 24,
   "metadata": {},
   "outputs": [
    {
     "name": "stdout",
     "output_type": "stream",
     "text": [
      "+---------+----------------+-------+---------------+-------+\n",
      "|    cargo|    departamento|id_func|           nome|salario|\n",
      "+---------+----------------+-------+---------------+-------+\n",
      "| Analista|        Projetos|      1|  Marcio Santos|   5000|\n",
      "|Instrutor|     Treinamento|      2|   Bruno Garcia|   4000|\n",
      "|Vendedora|          Vendas|      3|    Celia Silva|   3500|\n",
      "| Gerencia|Recursos Humanos|      4|   Beatriz Dias|   5500|\n",
      "|Instrutor|     Treinamento|      5| Sandro Correia|   4200|\n",
      "| Analista|        Projetos|      6|   Leticia Dias|   5100|\n",
      "| Analista|        Projetos|      7|   Cacio Farias|   5100|\n",
      "| Gerencia|   Administracao|      8|     Cezar Maia|   7000|\n",
      "|Vendedora|          Vendas|      9|   Amanda Nunes|   3500|\n",
      "|Vendedora|          Vendas|     10|   Paula Priore|   3500|\n",
      "| Analista|        Projetos|     11|     Carla Neto|   4000|\n",
      "|Vendedora|          Vendas|     12|   Marcia Costa|   2700|\n",
      "| Analista|Recursos Humanos|     13|  Luciana Prado|   4100|\n",
      "|Vendedora|          Vendas|     14| Roberta Amaral|   2800|\n",
      "|Instrutor|     Treinamento|     15|Rogerio Ribeiro|   4000|\n",
      "|Vendedora|          Vendas|     16|   Rosana Rocha|   3000|\n",
      "| Analista|        Projetos|     17|Claudio Queiroz|   6500|\n",
      "| Gerencia|   Administracao|     18|   Diego Chaves|   7500|\n",
      "|Instrutor|     Treinamento|     19|Sergio Nogueira|   5300|\n",
      "|Vendedora|          Vendas|     20|  Samantha Reis|   4000|\n",
      "+---------+----------------+-------+---------------+-------+\n",
      "\n"
     ]
    }
   ],
   "source": [
    "df.show()"
   ]
  },
  {
   "cell_type": "code",
   "execution_count": 25,
   "metadata": {},
   "outputs": [
    {
     "name": "stdout",
     "output_type": "stream",
     "text": [
      "+---------+----------------+-------+---------------+-------+------------+\n",
      "|    cargo|    departamento|id_func|           nome|salario|gratificacao|\n",
      "+---------+----------------+-------+---------------+-------+------------+\n",
      "| Analista|        Projetos|      1|  Marcio Santos|   5000|        5000|\n",
      "|Instrutor|     Treinamento|      2|   Bruno Garcia|   4000|        4000|\n",
      "|Vendedora|          Vendas|      3|    Celia Silva|   3500|        3500|\n",
      "| Gerencia|Recursos Humanos|      4|   Beatriz Dias|   5500|        5500|\n",
      "|Instrutor|     Treinamento|      5| Sandro Correia|   4200|        4200|\n",
      "| Analista|        Projetos|      6|   Leticia Dias|   5100|        5100|\n",
      "| Analista|        Projetos|      7|   Cacio Farias|   5100|        5100|\n",
      "| Gerencia|   Administracao|      8|     Cezar Maia|   7000|        7000|\n",
      "|Vendedora|          Vendas|      9|   Amanda Nunes|   3500|        3500|\n",
      "|Vendedora|          Vendas|     10|   Paula Priore|   3500|        3500|\n",
      "| Analista|        Projetos|     11|     Carla Neto|   4000|        4000|\n",
      "|Vendedora|          Vendas|     12|   Marcia Costa|   2700|        2700|\n",
      "| Analista|Recursos Humanos|     13|  Luciana Prado|   4100|        4100|\n",
      "|Vendedora|          Vendas|     14| Roberta Amaral|   2800|        2800|\n",
      "|Instrutor|     Treinamento|     15|Rogerio Ribeiro|   4000|        4000|\n",
      "|Vendedora|          Vendas|     16|   Rosana Rocha|   3000|        3000|\n",
      "| Analista|        Projetos|     17|Claudio Queiroz|   6500|        6500|\n",
      "| Gerencia|   Administracao|     18|   Diego Chaves|   7500|        7500|\n",
      "|Instrutor|     Treinamento|     19|Sergio Nogueira|   5300|        5300|\n",
      "|Vendedora|          Vendas|     20|  Samantha Reis|   4000|        4000|\n",
      "+---------+----------------+-------+---------------+-------+------------+\n",
      "\n"
     ]
    }
   ],
   "source": [
    "df.withColumn('gratificacao',df['salario']).show()"
   ]
  },
  {
   "cell_type": "code",
   "execution_count": 26,
   "metadata": {},
   "outputs": [
    {
     "name": "stdout",
     "output_type": "stream",
     "text": [
      "+---------+----------------+---+---------------+-------+\n",
      "|    cargo|    departamento| id|           nome|salario|\n",
      "+---------+----------------+---+---------------+-------+\n",
      "| Analista|        Projetos|  1|  Marcio Santos|   5000|\n",
      "|Instrutor|     Treinamento|  2|   Bruno Garcia|   4000|\n",
      "|Vendedora|          Vendas|  3|    Celia Silva|   3500|\n",
      "| Gerencia|Recursos Humanos|  4|   Beatriz Dias|   5500|\n",
      "|Instrutor|     Treinamento|  5| Sandro Correia|   4200|\n",
      "| Analista|        Projetos|  6|   Leticia Dias|   5100|\n",
      "| Analista|        Projetos|  7|   Cacio Farias|   5100|\n",
      "| Gerencia|   Administracao|  8|     Cezar Maia|   7000|\n",
      "|Vendedora|          Vendas|  9|   Amanda Nunes|   3500|\n",
      "|Vendedora|          Vendas| 10|   Paula Priore|   3500|\n",
      "| Analista|        Projetos| 11|     Carla Neto|   4000|\n",
      "|Vendedora|          Vendas| 12|   Marcia Costa|   2700|\n",
      "| Analista|Recursos Humanos| 13|  Luciana Prado|   4100|\n",
      "|Vendedora|          Vendas| 14| Roberta Amaral|   2800|\n",
      "|Instrutor|     Treinamento| 15|Rogerio Ribeiro|   4000|\n",
      "|Vendedora|          Vendas| 16|   Rosana Rocha|   3000|\n",
      "| Analista|        Projetos| 17|Claudio Queiroz|   6500|\n",
      "| Gerencia|   Administracao| 18|   Diego Chaves|   7500|\n",
      "|Instrutor|     Treinamento| 19|Sergio Nogueira|   5300|\n",
      "|Vendedora|          Vendas| 20|  Samantha Reis|   4000|\n",
      "+---------+----------------+---+---------------+-------+\n",
      "\n"
     ]
    }
   ],
   "source": [
    "df.withColumnRenamed('id_func','id').show()"
   ]
  },
  {
   "cell_type": "code",
   "execution_count": 27,
   "metadata": {},
   "outputs": [
    {
     "name": "stdout",
     "output_type": "stream",
     "text": [
      "+---------+----------------+-------+---------------+-------+------------+\n",
      "|    cargo|    departamento|id_func|           nome|salario|gratificacao|\n",
      "+---------+----------------+-------+---------------+-------+------------+\n",
      "| Analista|        Projetos|      1|  Marcio Santos|   5000|      2500.0|\n",
      "|Instrutor|     Treinamento|      2|   Bruno Garcia|   4000|      2000.0|\n",
      "|Vendedora|          Vendas|      3|    Celia Silva|   3500|      1750.0|\n",
      "| Gerencia|Recursos Humanos|      4|   Beatriz Dias|   5500|      2750.0|\n",
      "|Instrutor|     Treinamento|      5| Sandro Correia|   4200|      2100.0|\n",
      "| Analista|        Projetos|      6|   Leticia Dias|   5100|      2550.0|\n",
      "| Analista|        Projetos|      7|   Cacio Farias|   5100|      2550.0|\n",
      "| Gerencia|   Administracao|      8|     Cezar Maia|   7000|      3500.0|\n",
      "|Vendedora|          Vendas|      9|   Amanda Nunes|   3500|      1750.0|\n",
      "|Vendedora|          Vendas|     10|   Paula Priore|   3500|      1750.0|\n",
      "| Analista|        Projetos|     11|     Carla Neto|   4000|      2000.0|\n",
      "|Vendedora|          Vendas|     12|   Marcia Costa|   2700|      1350.0|\n",
      "| Analista|Recursos Humanos|     13|  Luciana Prado|   4100|      2050.0|\n",
      "|Vendedora|          Vendas|     14| Roberta Amaral|   2800|      1400.0|\n",
      "|Instrutor|     Treinamento|     15|Rogerio Ribeiro|   4000|      2000.0|\n",
      "|Vendedora|          Vendas|     16|   Rosana Rocha|   3000|      1500.0|\n",
      "| Analista|        Projetos|     17|Claudio Queiroz|   6500|      3250.0|\n",
      "| Gerencia|   Administracao|     18|   Diego Chaves|   7500|      3750.0|\n",
      "|Instrutor|     Treinamento|     19|Sergio Nogueira|   5300|      2650.0|\n",
      "|Vendedora|          Vendas|     20|  Samantha Reis|   4000|      2000.0|\n",
      "+---------+----------------+-------+---------------+-------+------------+\n",
      "\n"
     ]
    }
   ],
   "source": [
    "df.withColumn('gratificacao',df['salario']/2).show()"
   ]
  },
  {
   "cell_type": "code",
   "execution_count": 28,
   "metadata": {},
   "outputs": [
    {
     "name": "stdout",
     "output_type": "stream",
     "text": [
      "+---------+----------------+-------+---------------+-------+\n",
      "|    cargo|    departamento|id_func|           nome|salario|\n",
      "+---------+----------------+-------+---------------+-------+\n",
      "| Analista|        Projetos|      1|  Marcio Santos|   5000|\n",
      "|Instrutor|     Treinamento|      2|   Bruno Garcia|   4000|\n",
      "|Vendedora|          Vendas|      3|    Celia Silva|   3500|\n",
      "| Gerencia|Recursos Humanos|      4|   Beatriz Dias|   5500|\n",
      "|Instrutor|     Treinamento|      5| Sandro Correia|   4200|\n",
      "| Analista|        Projetos|      6|   Leticia Dias|   5100|\n",
      "| Analista|        Projetos|      7|   Cacio Farias|   5100|\n",
      "| Gerencia|   Administracao|      8|     Cezar Maia|   7000|\n",
      "|Vendedora|          Vendas|      9|   Amanda Nunes|   3500|\n",
      "|Vendedora|          Vendas|     10|   Paula Priore|   3500|\n",
      "| Analista|        Projetos|     11|     Carla Neto|   4000|\n",
      "|Vendedora|          Vendas|     12|   Marcia Costa|   2700|\n",
      "| Analista|Recursos Humanos|     13|  Luciana Prado|   4100|\n",
      "|Vendedora|          Vendas|     14| Roberta Amaral|   2800|\n",
      "|Instrutor|     Treinamento|     15|Rogerio Ribeiro|   4000|\n",
      "|Vendedora|          Vendas|     16|   Rosana Rocha|   3000|\n",
      "| Analista|        Projetos|     17|Claudio Queiroz|   6500|\n",
      "| Gerencia|   Administracao|     18|   Diego Chaves|   7500|\n",
      "|Instrutor|     Treinamento|     19|Sergio Nogueira|   5300|\n",
      "|Vendedora|          Vendas|     20|  Samantha Reis|   4000|\n",
      "+---------+----------------+-------+---------------+-------+\n",
      "\n"
     ]
    }
   ],
   "source": [
    "df.show()"
   ]
  },
  {
   "cell_type": "code",
   "execution_count": 29,
   "metadata": {},
   "outputs": [],
   "source": [
    "df.createOrReplaceTempView(\"funcionarios\")"
   ]
  },
  {
   "cell_type": "code",
   "execution_count": 30,
   "metadata": {},
   "outputs": [],
   "source": [
    "sql_results = spark.sql(\"SELECT * FROM funcionarios\")"
   ]
  },
  {
   "cell_type": "code",
   "execution_count": 31,
   "metadata": {},
   "outputs": [
    {
     "data": {
      "text/plain": [
       "DataFrame[cargo: string, departamento: string, id_func: int, nome: string, salario: int]"
      ]
     },
     "execution_count": 31,
     "metadata": {},
     "output_type": "execute_result"
    }
   ],
   "source": [
    "sql_results"
   ]
  },
  {
   "cell_type": "code",
   "execution_count": 32,
   "metadata": {},
   "outputs": [
    {
     "name": "stdout",
     "output_type": "stream",
     "text": [
      "+---------+----------------+-------+---------------+-------+\n",
      "|    cargo|    departamento|id_func|           nome|salario|\n",
      "+---------+----------------+-------+---------------+-------+\n",
      "| Analista|        Projetos|      1|  Marcio Santos|   5000|\n",
      "|Instrutor|     Treinamento|      2|   Bruno Garcia|   4000|\n",
      "|Vendedora|          Vendas|      3|    Celia Silva|   3500|\n",
      "| Gerencia|Recursos Humanos|      4|   Beatriz Dias|   5500|\n",
      "|Instrutor|     Treinamento|      5| Sandro Correia|   4200|\n",
      "| Analista|        Projetos|      6|   Leticia Dias|   5100|\n",
      "| Analista|        Projetos|      7|   Cacio Farias|   5100|\n",
      "| Gerencia|   Administracao|      8|     Cezar Maia|   7000|\n",
      "|Vendedora|          Vendas|      9|   Amanda Nunes|   3500|\n",
      "|Vendedora|          Vendas|     10|   Paula Priore|   3500|\n",
      "| Analista|        Projetos|     11|     Carla Neto|   4000|\n",
      "|Vendedora|          Vendas|     12|   Marcia Costa|   2700|\n",
      "| Analista|Recursos Humanos|     13|  Luciana Prado|   4100|\n",
      "|Vendedora|          Vendas|     14| Roberta Amaral|   2800|\n",
      "|Instrutor|     Treinamento|     15|Rogerio Ribeiro|   4000|\n",
      "|Vendedora|          Vendas|     16|   Rosana Rocha|   3000|\n",
      "| Analista|        Projetos|     17|Claudio Queiroz|   6500|\n",
      "| Gerencia|   Administracao|     18|   Diego Chaves|   7500|\n",
      "|Instrutor|     Treinamento|     19|Sergio Nogueira|   5300|\n",
      "|Vendedora|          Vendas|     20|  Samantha Reis|   4000|\n",
      "+---------+----------------+-------+---------------+-------+\n",
      "\n"
     ]
    }
   ],
   "source": [
    "sql_results.show()"
   ]
  },
  {
   "cell_type": "code",
   "execution_count": 34,
   "metadata": {},
   "outputs": [
    {
     "name": "stdout",
     "output_type": "stream",
     "text": [
      "+--------+------------+-------+------------+-------+\n",
      "|   cargo|departamento|id_func|        nome|salario|\n",
      "+--------+------------+-------+------------+-------+\n",
      "|Analista|    Projetos|      6|Leticia Dias|   5100|\n",
      "|Analista|    Projetos|      7|Cacio Farias|   5100|\n",
      "+--------+------------+-------+------------+-------+\n",
      "\n"
     ]
    }
   ],
   "source": [
    "spark.sql(\"SELECT * FROM funcionarios WHERE salario=5100\").show()"
   ]
  },
  {
   "cell_type": "code",
   "execution_count": null,
   "metadata": {},
   "outputs": [],
   "source": []
  }
 ],
 "metadata": {
  "kernelspec": {
   "display_name": "Python 3",
   "language": "python",
   "name": "python3"
  },
  "language_info": {
   "codemirror_mode": {
    "name": "ipython",
    "version": 3
   },
   "file_extension": ".py",
   "mimetype": "text/x-python",
   "name": "python",
   "nbconvert_exporter": "python",
   "pygments_lexer": "ipython3",
   "version": "3.7.3"
  }
 },
 "nbformat": 4,
 "nbformat_minor": 2
}
