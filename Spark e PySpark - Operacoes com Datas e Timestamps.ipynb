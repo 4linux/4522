{
 "cells": [
  {
   "cell_type": "code",
   "execution_count": 1,
   "metadata": {},
   "outputs": [],
   "source": [
    "from pyspark.sql import SparkSession"
   ]
  },
  {
   "cell_type": "code",
   "execution_count": 2,
   "metadata": {},
   "outputs": [],
   "source": [
    "spark = SparkSession.builder.appName(\"Datas\").getOrCreate()"
   ]
  },
  {
   "cell_type": "code",
   "execution_count": 3,
   "metadata": {},
   "outputs": [],
   "source": [
    "df = spark.read.csv(\"/home/leonardo/4522/colaboradores.csv\",header=True,inferSchema=True)"
   ]
  },
  {
   "cell_type": "code",
   "execution_count": 4,
   "metadata": {},
   "outputs": [
    {
     "name": "stdout",
     "output_type": "stream",
     "text": [
      "+---+---------------+---------+-------+----------------+-------------------+\n",
      "| id|           nome|    cargo|salario|    departamento|     datadeadmissao|\n",
      "+---+---------------+---------+-------+----------------+-------------------+\n",
      "|  1|  Marcio Santos| Analista| 5000.0|        Projetos|2010-01-04 00:00:00|\n",
      "|  2|   Bruno Garcia|Instrutor| 4000.0|     Treinamento|2010-01-06 00:00:00|\n",
      "|  3|    Celia Silva|Vendedora| 3500.0|          Vendas|2011-02-07 00:00:00|\n",
      "|  4|   Beatriz Dias| Gerencia| 5500.0|Recursos Humanos|2011-09-22 00:00:00|\n",
      "|  5| Sandro Correia|Instrutor| 4200.0|     Treinamento|2012-02-15 00:00:00|\n",
      "|  6|   Leticia Dias| Analista| 5100.0|        Projetos|2012-04-26 00:00:00|\n",
      "|  7|   Cacio Farias| Analista| 5100.0|        Projetos|2012-10-25 00:00:00|\n",
      "|  8|     Cezar Maia| Gerencia| 7000.0|   Administracao|2014-02-21 00:00:00|\n",
      "|  9|   Amanda Nunes|Vendedora| 3500.0|          Vendas|2014-02-28 00:00:00|\n",
      "| 10|   Paula Priore|Vendedora| 3500.0|          Vendas|2014-03-07 00:00:00|\n",
      "| 11|     Carla Neto| Analista| 4000.0|        Projetos|2015-02-17 00:00:00|\n",
      "| 12|   Marcia Costa|Vendedora| 2700.0|          Vendas|2015-02-17 00:00:00|\n",
      "| 13|  Luciana Prado| Analista| 4100.0|Recursos Humanos|2015-09-17 00:00:00|\n",
      "| 14| Roberta Amaral|Vendedora| 2800.0|          Vendas|2015-10-17 00:00:00|\n",
      "| 15|Rogerio Ribeiro|Instrutor| 4000.0|     Treinamento|2010-08-04 00:00:00|\n",
      "| 16|   Rosana Rocha|Vendedora| 3000.0|          Vendas|2010-09-04 00:00:00|\n",
      "| 17|Claudio Queiroz| Analista| 6500.0|        Projetos|2011-01-04 00:00:00|\n",
      "| 18|   Diego Chaves| Gerencia| 7500.0|   Administracao|2009-10-25 00:00:00|\n",
      "| 19|Sergio Nogueira|Instrutor| 5300.0|     Treinamento|2008-10-25 00:00:00|\n",
      "| 20|  Samantha Reis|Vendedora| 4000.0|          Vendas|2007-12-03 00:00:00|\n",
      "+---+---------------+---------+-------+----------------+-------------------+\n",
      "\n"
     ]
    }
   ],
   "source": [
    "df.show()"
   ]
  },
  {
   "cell_type": "code",
   "execution_count": 5,
   "metadata": {},
   "outputs": [],
   "source": [
    "from pyspark.sql.functions import format_number,dayofmonth,hour,dayofyear,month,year,weekofyear,date_format"
   ]
  },
  {
   "cell_type": "code",
   "execution_count": 6,
   "metadata": {},
   "outputs": [
    {
     "name": "stdout",
     "output_type": "stream",
     "text": [
      "+--------------------------+\n",
      "|dayofmonth(datadeadmissao)|\n",
      "+--------------------------+\n",
      "|                         4|\n",
      "|                         6|\n",
      "|                         7|\n",
      "|                        22|\n",
      "|                        15|\n",
      "|                        26|\n",
      "|                        25|\n",
      "|                        21|\n",
      "|                        28|\n",
      "|                         7|\n",
      "|                        17|\n",
      "|                        17|\n",
      "|                        17|\n",
      "|                        17|\n",
      "|                         4|\n",
      "|                         4|\n",
      "|                         4|\n",
      "|                        25|\n",
      "|                        25|\n",
      "|                         3|\n",
      "+--------------------------+\n",
      "\n"
     ]
    }
   ],
   "source": [
    "df.select(dayofmonth(df['datadeadmissao'])).show()"
   ]
  },
  {
   "cell_type": "code",
   "execution_count": 7,
   "metadata": {},
   "outputs": [
    {
     "name": "stdout",
     "output_type": "stream",
     "text": [
      "+--------------------+\n",
      "|hour(datadeadmissao)|\n",
      "+--------------------+\n",
      "|                   0|\n",
      "|                   0|\n",
      "|                   0|\n",
      "|                   0|\n",
      "|                   0|\n",
      "|                   0|\n",
      "|                   0|\n",
      "|                   0|\n",
      "|                   0|\n",
      "|                   0|\n",
      "|                   0|\n",
      "|                   0|\n",
      "|                   0|\n",
      "|                   0|\n",
      "|                   0|\n",
      "|                   0|\n",
      "|                   0|\n",
      "|                   0|\n",
      "|                   0|\n",
      "|                   0|\n",
      "+--------------------+\n",
      "\n"
     ]
    }
   ],
   "source": [
    "df.select(hour(df['datadeadmissao'])).show()"
   ]
  },
  {
   "cell_type": "code",
   "execution_count": 8,
   "metadata": {},
   "outputs": [
    {
     "name": "stdout",
     "output_type": "stream",
     "text": [
      "+-------------------------+\n",
      "|dayofyear(datadeadmissao)|\n",
      "+-------------------------+\n",
      "|                        4|\n",
      "|                        6|\n",
      "|                       38|\n",
      "|                      265|\n",
      "|                       46|\n",
      "|                      117|\n",
      "|                      299|\n",
      "|                       52|\n",
      "|                       59|\n",
      "|                       66|\n",
      "|                       48|\n",
      "|                       48|\n",
      "|                      260|\n",
      "|                      290|\n",
      "|                      216|\n",
      "|                      247|\n",
      "|                        4|\n",
      "|                      298|\n",
      "|                      299|\n",
      "|                      337|\n",
      "+-------------------------+\n",
      "\n"
     ]
    }
   ],
   "source": [
    "df.select(dayofyear(df['datadeadmissao'])).show()"
   ]
  },
  {
   "cell_type": "code",
   "execution_count": 9,
   "metadata": {},
   "outputs": [
    {
     "name": "stdout",
     "output_type": "stream",
     "text": [
      "+---------------------+\n",
      "|month(datadeadmissao)|\n",
      "+---------------------+\n",
      "|                    1|\n",
      "|                    1|\n",
      "|                    2|\n",
      "|                    9|\n",
      "|                    2|\n",
      "|                    4|\n",
      "|                   10|\n",
      "|                    2|\n",
      "|                    2|\n",
      "|                    3|\n",
      "|                    2|\n",
      "|                    2|\n",
      "|                    9|\n",
      "|                   10|\n",
      "|                    8|\n",
      "|                    9|\n",
      "|                    1|\n",
      "|                   10|\n",
      "|                   10|\n",
      "|                   12|\n",
      "+---------------------+\n",
      "\n"
     ]
    }
   ],
   "source": [
    "df.select(month(df['datadeadmissao'])).show()"
   ]
  },
  {
   "cell_type": "code",
   "execution_count": 10,
   "metadata": {},
   "outputs": [
    {
     "name": "stdout",
     "output_type": "stream",
     "text": [
      "+--------------------+\n",
      "|year(datadeadmissao)|\n",
      "+--------------------+\n",
      "|                2010|\n",
      "|                2010|\n",
      "|                2011|\n",
      "|                2011|\n",
      "|                2012|\n",
      "|                2012|\n",
      "|                2012|\n",
      "|                2014|\n",
      "|                2014|\n",
      "|                2014|\n",
      "|                2015|\n",
      "|                2015|\n",
      "|                2015|\n",
      "|                2015|\n",
      "|                2010|\n",
      "|                2010|\n",
      "|                2011|\n",
      "|                2009|\n",
      "|                2008|\n",
      "|                2007|\n",
      "+--------------------+\n",
      "\n"
     ]
    }
   ],
   "source": [
    "df.select(year(df['datadeadmissao'])).show()"
   ]
  },
  {
   "cell_type": "code",
   "execution_count": 11,
   "metadata": {},
   "outputs": [
    {
     "name": "stdout",
     "output_type": "stream",
     "text": [
      "+---+---------------+---------+-------+----------------+-------------------+----+\n",
      "| id|           nome|    cargo|salario|    departamento|     datadeadmissao| Ano|\n",
      "+---+---------------+---------+-------+----------------+-------------------+----+\n",
      "|  1|  Marcio Santos| Analista| 5000.0|        Projetos|2010-01-04 00:00:00|2010|\n",
      "|  2|   Bruno Garcia|Instrutor| 4000.0|     Treinamento|2010-01-06 00:00:00|2010|\n",
      "|  3|    Celia Silva|Vendedora| 3500.0|          Vendas|2011-02-07 00:00:00|2011|\n",
      "|  4|   Beatriz Dias| Gerencia| 5500.0|Recursos Humanos|2011-09-22 00:00:00|2011|\n",
      "|  5| Sandro Correia|Instrutor| 4200.0|     Treinamento|2012-02-15 00:00:00|2012|\n",
      "|  6|   Leticia Dias| Analista| 5100.0|        Projetos|2012-04-26 00:00:00|2012|\n",
      "|  7|   Cacio Farias| Analista| 5100.0|        Projetos|2012-10-25 00:00:00|2012|\n",
      "|  8|     Cezar Maia| Gerencia| 7000.0|   Administracao|2014-02-21 00:00:00|2014|\n",
      "|  9|   Amanda Nunes|Vendedora| 3500.0|          Vendas|2014-02-28 00:00:00|2014|\n",
      "| 10|   Paula Priore|Vendedora| 3500.0|          Vendas|2014-03-07 00:00:00|2014|\n",
      "| 11|     Carla Neto| Analista| 4000.0|        Projetos|2015-02-17 00:00:00|2015|\n",
      "| 12|   Marcia Costa|Vendedora| 2700.0|          Vendas|2015-02-17 00:00:00|2015|\n",
      "| 13|  Luciana Prado| Analista| 4100.0|Recursos Humanos|2015-09-17 00:00:00|2015|\n",
      "| 14| Roberta Amaral|Vendedora| 2800.0|          Vendas|2015-10-17 00:00:00|2015|\n",
      "| 15|Rogerio Ribeiro|Instrutor| 4000.0|     Treinamento|2010-08-04 00:00:00|2010|\n",
      "| 16|   Rosana Rocha|Vendedora| 3000.0|          Vendas|2010-09-04 00:00:00|2010|\n",
      "| 17|Claudio Queiroz| Analista| 6500.0|        Projetos|2011-01-04 00:00:00|2011|\n",
      "| 18|   Diego Chaves| Gerencia| 7500.0|   Administracao|2009-10-25 00:00:00|2009|\n",
      "| 19|Sergio Nogueira|Instrutor| 5300.0|     Treinamento|2008-10-25 00:00:00|2008|\n",
      "| 20|  Samantha Reis|Vendedora| 4000.0|          Vendas|2007-12-03 00:00:00|2007|\n",
      "+---+---------------+---------+-------+----------------+-------------------+----+\n",
      "\n"
     ]
    }
   ],
   "source": [
    "df.withColumn(\"Ano\",year(df['datadeadmissao'])).show()"
   ]
  },
  {
   "cell_type": "code",
   "execution_count": 12,
   "metadata": {},
   "outputs": [
    {
     "name": "stdout",
     "output_type": "stream",
     "text": [
      "+--------+-----------------+\n",
      "|avg(Ano)|     avg(salario)|\n",
      "+--------+-----------------+\n",
      "|  2007.0|           4000.0|\n",
      "|  2015.0|           3400.0|\n",
      "|  2014.0|4666.666666666667|\n",
      "|  2012.0|           4800.0|\n",
      "|  2009.0|           7500.0|\n",
      "|  2010.0|           4000.0|\n",
      "|  2011.0|5166.666666666667|\n",
      "|  2008.0|           5300.0|\n",
      "+--------+-----------------+\n",
      "\n"
     ]
    }
   ],
   "source": [
    "newdf = df.withColumn(\"Ano\",year(df['datadeadmissao']))\n",
    "newdf.groupBy(\"Ano\").mean()[['avg(Ano)','avg(salario)']].show()"
   ]
  },
  {
   "cell_type": "code",
   "execution_count": 13,
   "metadata": {},
   "outputs": [
    {
     "name": "stdout",
     "output_type": "stream",
     "text": [
      "+------+-------------+\n",
      "|   Ano|Média Salário|\n",
      "+------+-------------+\n",
      "|2007.0|     4,000.00|\n",
      "|2015.0|     3,400.00|\n",
      "|2014.0|     4,666.67|\n",
      "|2012.0|     4,800.00|\n",
      "|2009.0|     7,500.00|\n",
      "|2010.0|     4,000.00|\n",
      "|2011.0|     5,166.67|\n",
      "|2008.0|     5,300.00|\n",
      "+------+-------------+\n",
      "\n"
     ]
    }
   ],
   "source": [
    "result = newdf.groupBy(\"Ano\").mean()[['avg(Ano)','avg(salario)']]\n",
    "result = result.withColumnRenamed(\"avg(Ano)\",\"Ano\")\n",
    "result = result.select('Ano',format_number('avg(salario)',2).alias(\"Média Salário\")).show()"
   ]
  }
 ],
 "metadata": {
  "kernelspec": {
   "display_name": "Python 3",
   "language": "python",
   "name": "python3"
  },
  "language_info": {
   "codemirror_mode": {
    "name": "ipython",
    "version": 3
   },
   "file_extension": ".py",
   "mimetype": "text/x-python",
   "name": "python",
   "nbconvert_exporter": "python",
   "pygments_lexer": "ipython3",
   "version": "3.7.3"
  }
 },
 "nbformat": 4,
 "nbformat_minor": 2
}
