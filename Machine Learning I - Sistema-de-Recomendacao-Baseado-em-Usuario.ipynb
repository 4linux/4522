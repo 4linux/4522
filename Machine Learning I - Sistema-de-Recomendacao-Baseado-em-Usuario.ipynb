{
 "cells": [
  {
   "cell_type": "code",
   "execution_count": 1,
   "metadata": {},
   "outputs": [],
   "source": [
    "import pandas as pd\n",
    "import numpy as np\n",
    "import matplotlib.pyplot as plt\n",
    "import math"
   ]
  },
  {
   "cell_type": "code",
   "execution_count": 2,
   "metadata": {},
   "outputs": [],
   "source": [
    "data_cols = ['user id','movie id','rating','timestamp']\n",
    "item_cols = ['movie id','movie title','release date','video release date','IMDb URL','unknown','Action','Adventure','Animation','Childrens','Comedy','Crime','Documentary','Drama','Fantasy','Film-Noir','Horror','Musical','Mystery','Romance ','Sci-Fi','Thriller','War' ,'Western']\n",
    "user_cols = ['user id','age','gender','occupation','zip code']"
   ]
  },
  {
   "cell_type": "code",
   "execution_count": 4,
   "metadata": {},
   "outputs": [],
   "source": [
    "users = pd.read_csv('ml-100k/u.user', sep='|', names=user_cols, encoding='latin-1')\n",
    "item = pd.read_csv('ml-100k/u.item', sep='|', names=item_cols, encoding='latin-1')\n",
    "data = pd.read_csv('ml-100k/u.data', sep='\\t', names=data_cols, encoding='latin-1')"
   ]
  },
  {
   "cell_type": "markdown",
   "metadata": {},
   "source": [
    "# Usaremos o arquivo u.data primeiro, pois ele contém ID do usuário, IDs do filme e classificações. Esses três elementos são tudo o que precisamos para determinar a similaridade dos usuários com base em suas classificações para um filme específico. \n",
    "\n",
    "# Primeiro, vamos classificar o DataFrame pela ID do usuário e, em seguida, dividiremos o conjunto de dados em um conjunto de treinamento e um conjunto de testes (só precisamos de um usuário para o treinamento)."
   ]
  },
  {
   "cell_type": "code",
   "execution_count": 5,
   "metadata": {},
   "outputs": [
    {
     "name": "stdout",
     "output_type": "stream",
     "text": [
      "       user id  movie id  rating  timestamp\n",
      "73676      942       479       4  891283118\n",
      "67222      942       604       4  891283139\n",
      "95675      942       478       5  891283017\n",
      "85822      942       659       5  891283161\n",
      "68192      942       487       4  891282985\n"
     ]
    }
   ],
   "source": [
    "utrain = (data.sort_values('user id'))[:99832]\n",
    "print(utrain.tail())"
   ]
  },
  {
   "cell_type": "code",
   "execution_count": 6,
   "metadata": {},
   "outputs": [
    {
     "name": "stdout",
     "output_type": "stream",
     "text": [
      "       user id  movie id  rating  timestamp\n",
      "91841      943       132       3  888639093\n",
      "91810      943       204       3  888639117\n",
      "77956      943        94       4  888639929\n",
      "87415      943        53       3  888640067\n",
      "77609      943       124       3  875501995\n"
     ]
    }
   ],
   "source": [
    "utest = (data.sort_values('user id'))[99833:]\n",
    "print(utest.head())"
   ]
  },
  {
   "cell_type": "markdown",
   "metadata": {},
   "source": [
    "# Vamos converter para um NumPy Array para facilitar a iteração."
   ]
  },
  {
   "cell_type": "code",
   "execution_count": 10,
   "metadata": {},
   "outputs": [
    {
     "name": "stdout",
     "output_type": "stream",
     "text": [
      "[[  1  55   5]\n",
      " [  1 203   4]\n",
      " [  1 183   5]\n",
      " ...\n",
      " [942 478   5]\n",
      " [942 659   5]\n",
      " [942 487   4]]\n"
     ]
    }
   ],
   "source": [
    "utrain = utrain[['user id', 'movie id', 'rating']].values\n",
    "print(utrain)"
   ]
  },
  {
   "cell_type": "code",
   "execution_count": 11,
   "metadata": {},
   "outputs": [
    {
     "name": "stdout",
     "output_type": "stream",
     "text": [
      "[[ 943  132    3]\n",
      " [ 943  204    3]\n",
      " [ 943   94    4]\n",
      " [ 943   53    3]\n",
      " [ 943  124    3]\n",
      " [ 943  672    5]\n",
      " [ 943 1047    2]\n",
      " [ 943  541    4]\n",
      " [ 943  226    4]\n",
      " [ 943  449    1]\n",
      " [ 943  470    4]\n",
      " [ 943   11    4]\n",
      " [ 943  526    4]\n",
      " [ 943  549    1]\n",
      " [ 943   28    4]\n",
      " [ 943  184    5]\n",
      " [ 943   22    4]\n",
      " [ 943 1188    3]\n",
      " [ 943  196    5]\n",
      " [ 943  233    5]\n",
      " [ 943   41    4]\n",
      " [ 943  796    3]\n",
      " [ 943   56    5]\n",
      " [ 943  231    2]\n",
      " [ 943    9    3]\n",
      " [ 943   42    5]\n",
      " [ 943  205    5]\n",
      " [ 943  443    2]\n",
      " [ 943  585    1]\n",
      " [ 943   73    3]\n",
      " [ 943   54    4]\n",
      " [ 943  765    3]\n",
      " [ 943   58    4]\n",
      " [ 943  122    1]\n",
      " [ 943   50    4]\n",
      " [ 943   72    2]\n",
      " [ 943  391    2]\n",
      " [ 943  181    4]\n",
      " [ 943  234    3]\n",
      " [ 943  385    4]\n",
      " [ 943   76    4]\n",
      " [ 943  274    3]\n",
      " [ 943  188    4]\n",
      " [ 943  468    2]\n",
      " [ 943 1028    2]\n",
      " [ 943  415    1]\n",
      " [ 943  227    1]\n",
      " [ 943   68    4]\n",
      " [ 943  367    4]\n",
      " [ 943   98    5]\n",
      " [ 943  546    4]\n",
      " [ 943  186    5]\n",
      " [ 943  943    5]\n",
      " [ 943  412    2]\n",
      " [ 943   55    5]\n",
      " [ 943  200    4]\n",
      " [ 943   80    2]\n",
      " [ 943  195    4]\n",
      " [ 943   24    4]\n",
      " [ 943 1228    3]\n",
      " [ 943  356    4]\n",
      " [ 943   38    3]\n",
      " [ 943  172    4]\n",
      " [ 943  625    3]\n",
      " [ 943   92    5]\n",
      " [ 943  485    5]\n",
      " [ 943  475    5]\n",
      " [ 943  794    3]\n",
      " [ 943  111    4]\n",
      " [ 943  840    4]\n",
      " [ 943 1330    3]\n",
      " [ 943  581    4]\n",
      " [ 943  423    3]\n",
      " [ 943  569    2]\n",
      " [ 943  756    2]\n",
      " [ 943  281    4]\n",
      " [ 943 1011    2]\n",
      " [ 943  218    4]\n",
      " [ 943   67    4]\n",
      " [ 943  717    4]\n",
      " [ 943  825    3]\n",
      " [ 943  720    1]\n",
      " [ 943  739    4]\n",
      " [ 943  721    5]\n",
      " [ 943   23    4]\n",
      " [ 943  216    4]\n",
      " [ 943  928    5]\n",
      " [ 943  139    1]\n",
      " [ 943  193    4]\n",
      " [ 943  201    5]\n",
      " [ 943 1074    4]\n",
      " [ 943   27    4]\n",
      " [ 943  182    5]\n",
      " [ 943  401    1]\n",
      " [ 943  187    5]\n",
      " [ 943  386    1]\n",
      " [ 943  161    4]\n",
      " [ 943  403    4]\n",
      " [ 943  724    1]\n",
      " [ 943  431    4]\n",
      " [ 943   79    5]\n",
      " [ 943  566    4]\n",
      " [ 943  202    2]\n",
      " [ 943  471    5]\n",
      " [ 943  426    4]\n",
      " [ 943  121    3]\n",
      " [ 943  229    2]\n",
      " [ 943  508    5]\n",
      " [ 943  127    5]\n",
      " [ 943  237    4]\n",
      " [ 943  399    1]\n",
      " [ 943  421    2]\n",
      " [ 943  785    2]\n",
      " [ 943  230    1]\n",
      " [ 943  100    5]\n",
      " [ 943  393    2]\n",
      " [ 943  576    4]\n",
      " [ 943  722    3]\n",
      " [ 943  824    4]\n",
      " [ 943  406    3]\n",
      " [ 943   51    1]\n",
      " [ 943  763    4]\n",
      " [ 943    2    5]\n",
      " [ 943  655    4]\n",
      " [ 943   64    5]\n",
      " [ 943  685    4]\n",
      " [ 943  941    1]\n",
      " [ 943 1044    3]\n",
      " [ 943  405    4]\n",
      " [ 943  732    4]\n",
      " [ 943 1067    2]\n",
      " [ 943  559    4]\n",
      " [ 943  217    3]\n",
      " [ 943   97    2]\n",
      " [ 943  816    4]\n",
      " [ 943  609    2]\n",
      " [ 943  219    4]\n",
      " [ 943  808    4]\n",
      " [ 943  318    3]\n",
      " [ 943  568    3]\n",
      " [ 943  450    1]\n",
      " [ 943   31    4]\n",
      " [ 943  831    2]\n",
      " [ 943  185    2]\n",
      " [ 943  173    5]\n",
      " [ 943   96    4]\n",
      " [ 943  232    4]\n",
      " [ 943  228    3]\n",
      " [ 943  194    5]\n",
      " [ 943  570    1]\n",
      " [ 943  595    2]\n",
      " [ 943  373    3]\n",
      " [ 943   69    5]\n",
      " [ 943  168    2]\n",
      " [ 943  239    5]\n",
      " [ 943  151    4]\n",
      " [ 943  402    2]\n",
      " [ 943  419    2]\n",
      " [ 943  614    5]\n",
      " [ 943  117    4]\n",
      " [ 943  282    5]\n",
      " [ 943  174    4]\n",
      " [ 943  427    4]\n",
      " [ 943   12    5]\n",
      " [ 943  284    2]\n",
      " [ 943   62    3]\n",
      " [ 943  210    4]]\n"
     ]
    }
   ],
   "source": [
    "utest = utest[['user id', 'movie id', 'rating']].values\n",
    "print(utest)"
   ]
  },
  {
   "cell_type": "markdown",
   "metadata": {},
   "source": [
    "# Crie um users_list, que é uma lista de usuários que contém uma lista de filmes classificados por ele."
   ]
  },
  {
   "cell_type": "code",
   "execution_count": 12,
   "metadata": {},
   "outputs": [
    {
     "name": "stdout",
     "output_type": "stream",
     "text": [
      "942\n"
     ]
    }
   ],
   "source": [
    "users_list = []\n",
    "for i in range(1,943):\n",
    "    list = []\n",
    "    for j in range(0,len(utrain)):\n",
    "        if utrain[j][0] == i:\n",
    "            list.append(utrain[j])    \n",
    "        else:\n",
    "            break\n",
    "    utrain = utrain[j:]\n",
    "    users_list.append(list) \n",
    "    \n",
    "print(len(users_list))"
   ]
  },
  {
   "cell_type": "markdown",
   "metadata": {},
   "source": [
    "# Defina uma função chamada EucledianScore. O objetivo do EucledianScore é medir a similaridade entre dois usuários com base em suas avaliações dadas aos filmes que eles têm em comum. Mas e se os usuários tiverem apenas um filme em comum? Ter mais filmes em comum é um grande sinal de semelhança. Portanto, se os usuários tiverem menos de quatro filmes em comum, atribuiremos a eles um EucledianScore alto."
   ]
  },
  {
   "cell_type": "code",
   "execution_count": 13,
   "metadata": {},
   "outputs": [],
   "source": [
    "def EucledianScore(train_user, test_user):\n",
    "    sum = 0\n",
    "    count = 0\n",
    "    for i in test_user:\n",
    "        score = 0\n",
    "        for j in train_user:\n",
    "            if(int(i[1]) == int(j[1])):\n",
    "                score= ((float(i[2])-float(j[2]))*(float(i[2])-float(j[2])))\n",
    "                count= count + 1        \n",
    "            sum = sum + score\n",
    "    if(count<4):\n",
    "        sum = 1000000           \n",
    "    return(math.sqrt(sum))"
   ]
  },
  {
   "cell_type": "markdown",
   "metadata": {},
   "source": [
    "# Agora vamos iterar sobre users_list e encontrar a similaridade dos usuários com o test_user por meio dessa função e anexar o EucledianScore juntamente com o User ID em uma lista separada score_list. \n",
    "# Em seguida, vamos converter a lista em DataFrame, e assim classificá-lo pelo EucledianScore e, finalmente, convertê-lo em um score_matrix NumPy Array para facilitar a iteração."
   ]
  },
  {
   "cell_type": "code",
   "execution_count": 16,
   "metadata": {},
   "outputs": [
    {
     "name": "stdout",
     "output_type": "stream",
     "text": [
      "     user id  Eucledian Score\n",
      "309      310         1.732051\n",
      "138      139         3.872983\n",
      "45        46         4.000000\n",
      "208      209         4.242641\n",
      "557      558         4.582576\n",
      "..       ...              ...\n",
      "110      111      1000.000000\n",
      "719      720      1000.000000\n",
      "106      107      1000.000000\n",
      "104      105      1000.000000\n",
      "694      695      1000.000000\n",
      "\n",
      "[942 rows x 2 columns]\n"
     ]
    }
   ],
   "source": [
    "score_list = []               \n",
    "for i in range(0,942):\n",
    "    score_list.append([i+1,EucledianScore(users_list[i], utest)])\n",
    "score = pd.DataFrame(score_list, columns = ['user id','Eucledian Score'])\n",
    "score = score.sort_values(by = 'Eucledian Score')\n",
    "print(score)\n",
    "score_matrix = score.values"
   ]
  },
  {
   "cell_type": "markdown",
   "metadata": {},
   "source": [
    "# Agora vemos que o usuário com ID 310 tem a menor pontuação de distância euclidiana e, portanto, a maior similaridade. \n",
    "\n",
    "# Então, agora precisamos obter a lista de filmes que não são comuns entre os dois usuários. Faça duas listas. Veja a lista completa dos filmes que estão lá em USER_ID 310. E então a lista de filmes comuns. Converta essas listas em conjuntos e obtenha a lista de filmes a serem recomendados."
   ]
  },
  {
   "cell_type": "code",
   "execution_count": 17,
   "metadata": {},
   "outputs": [],
   "source": [
    "user= int(score_matrix[0][0])\n",
    "common_list = []\n",
    "full_list = []\n",
    "for i in utest:\n",
    "    for j in users_list[user-1]:\n",
    "        if(int(i[1])== int(j[1])):\n",
    "            common_list.append(int(j[1]))\n",
    "        full_list.append(j[1])\n",
    "\n",
    "common_list = set(common_list)  \n",
    "full_list = set(full_list)\n",
    "recommendation = full_list.difference(common_list)"
   ]
  },
  {
   "cell_type": "markdown",
   "metadata": {},
   "source": [
    "# Agora precisamos criar uma lista compilada dos filmes junto com suas classificações médias. Mesclar os arquivos \"item\" e \"dados\". Em seguida, agrupe pelos títulos de filmes, selecione as colunas que você precisa e, em seguida, encontre as avaliações médias de cada filme. Em seguida, expresse o Dataframe como um Array NumPy."
   ]
  },
  {
   "cell_type": "code",
   "execution_count": 32,
   "metadata": {},
   "outputs": [],
   "source": [
    "item_list = (((pd.merge(item,data).sort_values(by = 'movie id')).groupby('movie title')))[['movie id', 'movie title', 'rating']]\n",
    "item_list = item_list.mean()\n",
    "item_list['movie title'] = item_list.index\n",
    "item_list = item_list.values"
   ]
  },
  {
   "cell_type": "markdown",
   "metadata": {},
   "source": [
    "# Agora encontramos os filmes em item_list por IDs da recomendação. Em seguida, anexe-os a uma lista separada.\n",
    "# Imprima-os e suas recomendações estão prontas!"
   ]
  },
  {
   "cell_type": "code",
   "execution_count": 55,
   "metadata": {},
   "outputs": [
    {
     "ename": "TypeError",
     "evalue": "unsupported operand type(s) for -: 'str' and 'int'",
     "output_type": "error",
     "traceback": [
      "\u001b[0;31m---------------------------------------------------------------------------\u001b[0m",
      "\u001b[0;31mTypeError\u001b[0m                                 Traceback (most recent call last)",
      "\u001b[0;32m<ipython-input-55-42dcc5f544d8>\u001b[0m in \u001b[0;36m<module>\u001b[0;34m\u001b[0m\n\u001b[1;32m      1\u001b[0m \u001b[0mrecommendation_list\u001b[0m \u001b[0;34m=\u001b[0m \u001b[0;34m[\u001b[0m\u001b[0;34m]\u001b[0m\u001b[0;34m\u001b[0m\u001b[0;34m\u001b[0m\u001b[0m\n\u001b[1;32m      2\u001b[0m \u001b[0;32mfor\u001b[0m \u001b[0mi\u001b[0m \u001b[0;32min\u001b[0m \u001b[0mrecommendation\u001b[0m\u001b[0;34m:\u001b[0m\u001b[0;34m\u001b[0m\u001b[0;34m\u001b[0m\u001b[0m\n\u001b[0;32m----> 3\u001b[0;31m     \u001b[0mrecommendation_list\u001b[0m\u001b[0;34m.\u001b[0m\u001b[0mappend\u001b[0m\u001b[0;34m(\u001b[0m\u001b[0mitem_list\u001b[0m\u001b[0;34m[\u001b[0m\u001b[0mi\u001b[0m\u001b[0;34m-\u001b[0m\u001b[0;36m1\u001b[0m\u001b[0;34m]\u001b[0m\u001b[0;34m)\u001b[0m\u001b[0;34m\u001b[0m\u001b[0;34m\u001b[0m\u001b[0m\n\u001b[0m\u001b[1;32m      4\u001b[0m \u001b[0;34m\u001b[0m\u001b[0m\n",
      "\u001b[0;31mTypeError\u001b[0m: unsupported operand type(s) for -: 'str' and 'int'"
     ]
    }
   ],
   "source": [
    "recommendation_list = []\n",
    "for i in recommendation:\n",
    "    recommendation_list.append(item_list[i-1]))\n",
    "    \n",
    "recommendation = (pd.DataFrame(recommendation_list,columns = ['movie id','mean rating' ,'movie title'])).sort_values(by = 'mean rating', ascending = False)\n",
    "print(recommendation[['mean rating','movie title']])"
   ]
  },
  {
   "cell_type": "code",
   "execution_count": null,
   "metadata": {},
   "outputs": [],
   "source": []
  },
  {
   "cell_type": "code",
   "execution_count": null,
   "metadata": {},
   "outputs": [],
   "source": []
  }
 ],
 "metadata": {
  "kernelspec": {
   "display_name": "Python 3",
   "language": "python",
   "name": "python3"
  },
  "language_info": {
   "codemirror_mode": {
    "name": "ipython",
    "version": 3
   },
   "file_extension": ".py",
   "mimetype": "text/x-python",
   "name": "python",
   "nbconvert_exporter": "python",
   "pygments_lexer": "ipython3",
   "version": "3.8.3"
  }
 },
 "nbformat": 4,
 "nbformat_minor": 2
}
