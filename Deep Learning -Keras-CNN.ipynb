{
 "cells": [
  {
   "cell_type": "markdown",
   "metadata": {},
   "source": [
    "# Introdução ao Keras\n",
    "\n",
    "Vamos usar Keras no conjunto de dados MNIST novamente, desta vez usando uma Rede Neural Convolucional que é mais adequada para o processamento de imagens. As CNNs são menos sensíveis a onde na imagem o padrão é o que procuramos.\n",
    "\n",
    "Com um perceptron multicamada, atingimos cerca de 97% de precisão. Vamos ver se podemos vencer isso.\n",
    "\n",
    "Como antes, começaremos importando as coisas que precisamos, incluindo os novos tipos de camadas de que falamos:"
   ]
  },
  {
   "cell_type": "code",
   "execution_count": 7,
   "metadata": {},
   "outputs": [],
   "source": [
    "import tensorflow\n",
    "from tensorflow.keras.datasets import mnist\n",
    "from tensorflow.keras.models import Sequential\n",
    "from tensorflow.keras.layers import Dense, Dropout, Conv2D, MaxPooling2D, Flatten\n",
    "from tensorflow.keras.optimizers import RMSprop\n",
    "import matplotlib.pyplot as plt\n",
    "import warnings\n",
    "warnings.filterwarnings('ignore')"
   ]
  },
  {
   "cell_type": "markdown",
   "metadata": {},
   "source": [
    "Carregaremos nosso conjunto de dados brutos exatamente como antes:"
   ]
  },
  {
   "cell_type": "code",
   "execution_count": 3,
   "metadata": {},
   "outputs": [],
   "source": [
    "(mnist_train_images, mnist_train_labels), (mnist_test_images, mnist_test_labels) = mnist.load_data()"
   ]
  },
  {
   "cell_type": "markdown",
   "metadata": {},
   "source": [
    "Precisamos moldar os dados de maneira diferente antes. Como estamos tratando os dados como imagens 2D de 28x28 pixels em vez de um fluxo achatado de 784 pixels, precisamos moldá-lo de acordo. Dependendo do formato de dados para o qual Keras está configurado, pode ser 1x28x28 ou 28x28x1 (o \"1\" indica um único canal de cor, pois é apenas escala de cinza. Se estivéssemos lidando com imagens coloridas, seria 3 em vez de 1 teríamos canais de cores vermelho, verde e azul)"
   ]
  },
  {
   "cell_type": "code",
   "execution_count": 4,
   "metadata": {},
   "outputs": [],
   "source": [
    "from tensorflow.keras import backend as K\n",
    "\n",
    "if K.image_data_format() == 'channels_first':\n",
    "    train_images = mnist_train_images.reshape(mnist_train_images.shape[0], 1, 28, 28)\n",
    "    test_images = mnist_test_images.reshape(mnist_test_images.shape[0], 1, 28, 28)\n",
    "    input_shape = (1, 28, 28)\n",
    "else:\n",
    "    train_images = mnist_train_images.reshape(mnist_train_images.shape[0], 28, 28, 1)\n",
    "    test_images = mnist_test_images.reshape(mnist_test_images.shape[0], 28, 28, 1)\n",
    "    input_shape = (28, 28, 1)\n",
    "    \n",
    "train_images = train_images.astype('float32')\n",
    "test_images = test_images.astype('float32')\n",
    "train_images /= 255\n",
    "test_images /= 255"
   ]
  },
  {
   "cell_type": "markdown",
   "metadata": {},
   "source": [
    "Como antes, precisamos converter nossos rótulos de treino e de teste para serem categóricos em um formato \"one-hot\":"
   ]
  },
  {
   "cell_type": "code",
   "execution_count": 5,
   "metadata": {},
   "outputs": [],
   "source": [
    "train_labels = tensorflow.keras.utils.to_categorical(mnist_train_labels, 10)\n",
    "test_labels = tensorflow.keras.utils.to_categorical(mnist_test_labels, 10)"
   ]
  },
  {
   "cell_type": "markdown",
   "metadata": {},
   "source": [
    "Como verificação de integridade, vamos imprimir uma das imagens de treinamento com o rótulo:"
   ]
  },
  {
   "cell_type": "code",
   "execution_count": 8,
   "metadata": {},
   "outputs": [
    {
     "name": "stdout",
     "output_type": "stream",
     "text": [
      "[0. 0. 0. 1. 0. 0. 0. 0. 0. 0.]\n"
     ]
    },
    {
     "data": {
      "image/png": "[encoded data removed]",
      "text/plain": [
       "<Figure size 432x288 with 1 Axes>"
      ]
     },
     "metadata": {},
     "output_type": "display_data"
    }
   ],
   "source": [
    "def display_sample(num):\n",
    "    #Print the one-hot array of this sample's label \n",
    "    print(train_labels[num])  \n",
    "    #Print the label converted back to a number\n",
    "    label = train_labels[num].argmax(axis=0)\n",
    "    #Reshape the 768 values to a 28x28 image\n",
    "    image = train_images[num].reshape([28,28])\n",
    "    plt.title('Sample: %d  Label: %d' % (num, label))\n",
    "    plt.imshow(image, cmap=plt.get_cmap('gray_r'))\n",
    "    plt.show()\n",
    "    \n",
    "display_sample(1234)"
   ]
  },
  {
   "cell_type": "markdown",
   "metadata": {},
   "source": [
    "A configuração de uma rede neural convolucional envolve mais camadas. Nem todos estes são estritamente necessários; você pode executar sem pooling e dropout, mas essas etapas extras ajudam a evitar overfitting e ajudam as coisas a serem executadas mais rapidamente.\n",
    "\n",
    "Começaremos com uma convolução 2D da imagem - ela é configurada para tirar 32 janelas ou \"filtros\" de cada imagem, cada filtro com tamanho 3x3.\n",
    "\n",
    "Em seguida, executamos uma segunda convolução em cima disso com 64 janelas 3x3 - essa topologia é exatamente o que é recomendado nos exemplos do próprio Keras. Mais uma vez, você quer reutilizar pesquisas anteriores sempre que possível enquanto ajusta as CNNs, já que é difícil fazer isso.\n",
    "\n",
    "Em seguida, aplicamos uma camada MaxPooling2D que leva o máximo de cada resultado 2x2 para destilar os resultados em algo mais gerenciável.\n",
    "\n",
    "Um filtro de dropout é então aplicado para evitar overfitting.\n",
    "\n",
    "Em seguida, nivelamos a camada 2D que temos neste estágio em uma camada 1D. Então, neste ponto, podemos apenas fingir que temos um perceptron multicamada tradicional ...\n",
    "\n",
    "... e alimentar isso em uma camada oculta e plana de 128 unidades.\n",
    "\n",
    "Em seguida, aplicamos o abandono novamente para evitar o overfitting.\n",
    "\n",
    "E finalmente, nós alimentamos isso em nossas 10 unidades finais onde softmax é aplicado para escolher nossa categoria de 0-9."
   ]
  },
  {
   "cell_type": "code",
   "execution_count": 9,
   "metadata": {},
   "outputs": [],
   "source": [
    "model = Sequential()\n",
    "model.add(Conv2D(32, kernel_size=(3, 3),\n",
    "                 activation='relu',\n",
    "                 input_shape=input_shape))\n",
    "# 64 3x3 kernels\n",
    "model.add(Conv2D(64, (3, 3), activation='relu'))\n",
    "# Reduce by taking the max of each 2x2 block\n",
    "model.add(MaxPooling2D(pool_size=(2, 2)))\n",
    "# Dropout to avoid overfitting\n",
    "model.add(Dropout(0.25))\n",
    "# Flatten the results to one dimension for passing into our final layer\n",
    "model.add(Flatten())\n",
    "# A hidden layer to learn with\n",
    "model.add(Dense(128, activation='relu'))\n",
    "# Another dropout\n",
    "model.add(Dropout(0.5))\n",
    "# Final categorization from 0-9 with softmax\n",
    "model.add(Dense(10, activation='softmax'))"
   ]
  },
  {
   "cell_type": "markdown",
   "metadata": {},
   "source": [
    "Vamos verificar novamente a descrição do modelo:"
   ]
  },
  {
   "cell_type": "code",
   "execution_count": 10,
   "metadata": {},
   "outputs": [
    {
     "name": "stdout",
     "output_type": "stream",
     "text": [
      "_________________________________________________________________\n",
      "Layer (type)                 Output Shape              Param #   \n",
      "=================================================================\n",
      "conv2d (Conv2D)              (None, 26, 26, 32)        320       \n",
      "_________________________________________________________________\n",
      "conv2d_1 (Conv2D)            (None, 24, 24, 64)        18496     \n",
      "_________________________________________________________________\n",
      "max_pooling2d (MaxPooling2D) (None, 12, 12, 64)        0         \n",
      "_________________________________________________________________\n",
      "dropout (Dropout)            (None, 12, 12, 64)        0         \n",
      "_________________________________________________________________\n",
      "flatten (Flatten)            (None, 9216)              0         \n",
      "_________________________________________________________________\n",
      "dense (Dense)                (None, 128)               1179776   \n",
      "_________________________________________________________________\n",
      "dropout_1 (Dropout)          (None, 128)               0         \n",
      "_________________________________________________________________\n",
      "dense_1 (Dense)              (None, 10)                1290      \n",
      "=================================================================\n",
      "Total params: 1,199,882\n",
      "Trainable params: 1,199,882\n",
      "Non-trainable params: 0\n",
      "_________________________________________________________________\n"
     ]
    }
   ],
   "source": [
    "model.summary()"
   ]
  },
  {
   "cell_type": "markdown",
   "metadata": {},
   "source": [
    "Ainda estamos fazendo várias categorizações, então categorical_crossentropy ainda é a função de perda correta a ser usada. Usaremos o otimizador Adam, embora o exemplo fornecido com o Keras use o RMSProp. Você pode querer tentar os dois se você tiver tempo."
   ]
  },
  {
   "cell_type": "code",
   "execution_count": 11,
   "metadata": {},
   "outputs": [],
   "source": [
    "model.compile(loss='categorical_crossentropy',\n",
    "              optimizer='adam',\n",
    "              metrics=['accuracy'])"
   ]
  },
  {
   "cell_type": "markdown",
   "metadata": {},
   "source": [
    "E agora nós treinamos nosso modelo ... para tornar as coisas um pouco mais rápidas, usaremos lotes de 32.\n",
    "\n",
    "## Aviso\n",
    "\n",
    "Isso pode levar horas para ser executado, e a CPU do seu computador será excedida durante esse tempo! Não execute o próximo bloco, a menos que você possa dedicar seu computador por um longo tempo. Ele irá imprimir o progresso conforme cada época é executada, mas cada época pode levar cerca de 20 minutos."
   ]
  },
  {
   "cell_type": "code",
   "execution_count": 12,
   "metadata": {},
   "outputs": [
    {
     "name": "stdout",
     "output_type": "stream",
     "text": [
      "Train on 60000 samples, validate on 10000 samples\n",
      "Epoch 1/10\n",
      " - 113s - loss: 0.1884 - acc: 0.9428 - val_loss: 0.0457 - val_acc: 0.9841\n",
      "Epoch 2/10\n",
      " - 117s - loss: 0.0809 - acc: 0.9760 - val_loss: 0.0319 - val_acc: 0.9895\n",
      "Epoch 3/10\n",
      " - 130s - loss: 0.0604 - acc: 0.9811 - val_loss: 0.0310 - val_acc: 0.9897\n",
      "Epoch 4/10\n",
      " - 104s - loss: 0.0480 - acc: 0.9851 - val_loss: 0.0344 - val_acc: 0.9895\n",
      "Epoch 5/10\n",
      " - 100s - loss: 0.0425 - acc: 0.9868 - val_loss: 0.0323 - val_acc: 0.9901\n",
      "Epoch 6/10\n",
      " - 99s - loss: 0.0360 - acc: 0.9892 - val_loss: 0.0317 - val_acc: 0.9904\n",
      "Epoch 7/10\n",
      " - 99s - loss: 0.0307 - acc: 0.9908 - val_loss: 0.0266 - val_acc: 0.9917\n",
      "Epoch 8/10\n",
      " - 99s - loss: 0.0284 - acc: 0.9909 - val_loss: 0.0332 - val_acc: 0.9914\n",
      "Epoch 9/10\n",
      " - 98s - loss: 0.0257 - acc: 0.9920 - val_loss: 0.0309 - val_acc: 0.9919\n",
      "Epoch 10/10\n",
      " - 99s - loss: 0.0247 - acc: 0.9924 - val_loss: 0.0331 - val_acc: 0.9914\n"
     ]
    }
   ],
   "source": [
    "history = model.fit(train_images, train_labels,\n",
    "                    batch_size=32,\n",
    "                    epochs=10,\n",
    "                    verbose=2,\n",
    "                    validation_data=(test_images, test_labels))"
   ]
  },
  {
   "cell_type": "markdown",
   "metadata": {},
   "source": [
    "Valeu a pena esperar?"
   ]
  },
  {
   "cell_type": "code",
   "execution_count": 10,
   "metadata": {},
   "outputs": [
    {
     "name": "stdout",
     "output_type": "stream",
     "text": [
      "Test loss: 0.034049834153382426\n",
      "Test accuracy: 0.9918\n"
     ]
    }
   ],
   "source": [
    "score = model.evaluate(test_images, test_labels, verbose=0)\n",
    "print('Test loss:', score[0])\n",
    "print('Test accuracy:', score[1])"
   ]
  },
  {
   "cell_type": "markdown",
   "metadata": {},
   "source": [
    "Mais de 99%! E isso é com apenas 10 épocas! Ele teve um custo significativo em termos de poder de computação, mas quando você começa a distribuir coisas em vários computadores, cada um com várias GPUs, esse custo começa a parecer menos ruim. Se você está construindo algo em que a vida e a morte estão em jogo, como um carro autônomo, cada fração de um percentual é importante."
   ]
  },
  {
   "cell_type": "code",
   "execution_count": null,
   "metadata": {
    "collapsed": true
   },
   "outputs": [],
   "source": []
  }
 ],
 "metadata": {
  "kernelspec": {
   "display_name": "Python 3",
   "language": "python",
   "name": "python3"
  },
  "language_info": {
   "codemirror_mode": {
    "name": "ipython",
    "version": 3
   },
   "file_extension": ".py",
   "mimetype": "text/x-python",
   "name": "python",
   "nbconvert_exporter": "python",
   "pygments_lexer": "ipython3",
   "version": "3.7.3"
  }
 },
 "nbformat": 4,
 "nbformat_minor": 2
}
