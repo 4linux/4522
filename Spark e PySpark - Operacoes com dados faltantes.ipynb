{
 "cells": [
  {
   "cell_type": "code",
   "execution_count": 1,
   "metadata": {},
   "outputs": [],
   "source": [
    "from pyspark.sql import SparkSession"
   ]
  },
  {
   "cell_type": "code",
   "execution_count": 2,
   "metadata": {},
   "outputs": [],
   "source": [
    "spark = SparkSession.builder.appName(\"dadosfaltantes\").getOrCreate()"
   ]
  },
  {
   "cell_type": "code",
   "execution_count": 3,
   "metadata": {},
   "outputs": [],
   "source": [
    "df = spark.read.csv(\"/home/leonardo/4522/colaboradores_data_missing.csv\",header=True,inferSchema=True)"
   ]
  },
  {
   "cell_type": "code",
   "execution_count": 4,
   "metadata": {},
   "outputs": [
    {
     "name": "stdout",
     "output_type": "stream",
     "text": [
      "+---+---------------+---------+-------+----------------+-------------------+\n",
      "| id|           nome|    cargo|salario|    departamento|     datadeadmissao|\n",
      "+---+---------------+---------+-------+----------------+-------------------+\n",
      "|  1|  Marcio Santos| Analista| 5000.0|        Projetos|2010-01-04 00:00:00|\n",
      "|  2|   Bruno Garcia|Instrutor| 4000.0|     Treinamento|2010-01-06 00:00:00|\n",
      "|  3|    Celia Silva|Vendedora|   null|            null|2011-02-07 00:00:00|\n",
      "|  4|   Beatriz Dias| Gerencia| 5500.0|Recursos Humanos|2011-09-22 00:00:00|\n",
      "|  5| Sandro Correia|Instrutor| 4200.0|     Treinamento|2012-02-15 00:00:00|\n",
      "|  6|   Leticia Dias| Analista|   null|        Projetos|2012-04-26 00:00:00|\n",
      "|  7|   Cacio Farias| Analista| 5100.0|        Projetos|2012-10-25 00:00:00|\n",
      "|  8|     Cezar Maia| Gerencia| 7000.0|            null|2014-02-21 00:00:00|\n",
      "|  9|   Amanda Nunes|Vendedora| 3500.0|          Vendas|2014-02-28 00:00:00|\n",
      "| 10|   Paula Priore|Vendedora| 3500.0|          Vendas|2014-03-07 00:00:00|\n",
      "| 11|     Carla Neto| Analista| 4000.0|        Projetos|2015-02-17 00:00:00|\n",
      "| 12|   Marcia Costa|Vendedora|   null|            null|2015-02-17 00:00:00|\n",
      "| 13|  Luciana Prado| Analista| 4100.0|Recursos Humanos|2015-09-17 00:00:00|\n",
      "| 14| Roberta Amaral|Vendedora| 2800.0|          Vendas|2015-10-17 00:00:00|\n",
      "| 15|Rogerio Ribeiro|Instrutor| 4000.0|     Treinamento|2010-08-04 00:00:00|\n",
      "| 16|   Rosana Rocha|Vendedora|   null|          Vendas|2010-09-04 00:00:00|\n",
      "| 17|Claudio Queiroz| Analista| 6500.0|        Projetos|2011-01-04 00:00:00|\n",
      "| 18|   Diego Chaves| Gerencia| 7500.0|   Administracao|2009-10-25 00:00:00|\n",
      "| 19|Sergio Nogueira|Instrutor| 5300.0|     Treinamento|2008-10-25 00:00:00|\n",
      "| 20|  Samantha Reis|Vendedora| 4000.0|          Vendas|2007-12-03 00:00:00|\n",
      "+---+---------------+---------+-------+----------------+-------------------+\n",
      "\n"
     ]
    }
   ],
   "source": [
    "df.show()"
   ]
  },
  {
   "cell_type": "code",
   "execution_count": 5,
   "metadata": {},
   "outputs": [
    {
     "name": "stdout",
     "output_type": "stream",
     "text": [
      "+---+---------------+---------+-------+----------------+-------------------+\n",
      "| id|           nome|    cargo|salario|    departamento|     datadeadmissao|\n",
      "+---+---------------+---------+-------+----------------+-------------------+\n",
      "|  1|  Marcio Santos| Analista| 5000.0|        Projetos|2010-01-04 00:00:00|\n",
      "|  2|   Bruno Garcia|Instrutor| 4000.0|     Treinamento|2010-01-06 00:00:00|\n",
      "|  4|   Beatriz Dias| Gerencia| 5500.0|Recursos Humanos|2011-09-22 00:00:00|\n",
      "|  5| Sandro Correia|Instrutor| 4200.0|     Treinamento|2012-02-15 00:00:00|\n",
      "|  7|   Cacio Farias| Analista| 5100.0|        Projetos|2012-10-25 00:00:00|\n",
      "|  9|   Amanda Nunes|Vendedora| 3500.0|          Vendas|2014-02-28 00:00:00|\n",
      "| 10|   Paula Priore|Vendedora| 3500.0|          Vendas|2014-03-07 00:00:00|\n",
      "| 11|     Carla Neto| Analista| 4000.0|        Projetos|2015-02-17 00:00:00|\n",
      "| 13|  Luciana Prado| Analista| 4100.0|Recursos Humanos|2015-09-17 00:00:00|\n",
      "| 14| Roberta Amaral|Vendedora| 2800.0|          Vendas|2015-10-17 00:00:00|\n",
      "| 15|Rogerio Ribeiro|Instrutor| 4000.0|     Treinamento|2010-08-04 00:00:00|\n",
      "| 17|Claudio Queiroz| Analista| 6500.0|        Projetos|2011-01-04 00:00:00|\n",
      "| 18|   Diego Chaves| Gerencia| 7500.0|   Administracao|2009-10-25 00:00:00|\n",
      "| 19|Sergio Nogueira|Instrutor| 5300.0|     Treinamento|2008-10-25 00:00:00|\n",
      "| 20|  Samantha Reis|Vendedora| 4000.0|          Vendas|2007-12-03 00:00:00|\n",
      "+---+---------------+---------+-------+----------------+-------------------+\n",
      "\n"
     ]
    }
   ],
   "source": [
    "df.na.drop().show()"
   ]
  },
  {
   "cell_type": "code",
   "execution_count": 6,
   "metadata": {},
   "outputs": [
    {
     "name": "stdout",
     "output_type": "stream",
     "text": [
      "+---+---------------+---------+-------+----------------+-------------------+\n",
      "| id|           nome|    cargo|salario|    departamento|     datadeadmissao|\n",
      "+---+---------------+---------+-------+----------------+-------------------+\n",
      "|  1|  Marcio Santos| Analista| 5000.0|        Projetos|2010-01-04 00:00:00|\n",
      "|  2|   Bruno Garcia|Instrutor| 4000.0|     Treinamento|2010-01-06 00:00:00|\n",
      "|  4|   Beatriz Dias| Gerencia| 5500.0|Recursos Humanos|2011-09-22 00:00:00|\n",
      "|  5| Sandro Correia|Instrutor| 4200.0|     Treinamento|2012-02-15 00:00:00|\n",
      "|  6|   Leticia Dias| Analista|   null|        Projetos|2012-04-26 00:00:00|\n",
      "|  7|   Cacio Farias| Analista| 5100.0|        Projetos|2012-10-25 00:00:00|\n",
      "|  8|     Cezar Maia| Gerencia| 7000.0|            null|2014-02-21 00:00:00|\n",
      "|  9|   Amanda Nunes|Vendedora| 3500.0|          Vendas|2014-02-28 00:00:00|\n",
      "| 10|   Paula Priore|Vendedora| 3500.0|          Vendas|2014-03-07 00:00:00|\n",
      "| 11|     Carla Neto| Analista| 4000.0|        Projetos|2015-02-17 00:00:00|\n",
      "| 13|  Luciana Prado| Analista| 4100.0|Recursos Humanos|2015-09-17 00:00:00|\n",
      "| 14| Roberta Amaral|Vendedora| 2800.0|          Vendas|2015-10-17 00:00:00|\n",
      "| 15|Rogerio Ribeiro|Instrutor| 4000.0|     Treinamento|2010-08-04 00:00:00|\n",
      "| 16|   Rosana Rocha|Vendedora|   null|          Vendas|2010-09-04 00:00:00|\n",
      "| 17|Claudio Queiroz| Analista| 6500.0|        Projetos|2011-01-04 00:00:00|\n",
      "| 18|   Diego Chaves| Gerencia| 7500.0|   Administracao|2009-10-25 00:00:00|\n",
      "| 19|Sergio Nogueira|Instrutor| 5300.0|     Treinamento|2008-10-25 00:00:00|\n",
      "| 20|  Samantha Reis|Vendedora| 4000.0|          Vendas|2007-12-03 00:00:00|\n",
      "+---+---------------+---------+-------+----------------+-------------------+\n",
      "\n"
     ]
    }
   ],
   "source": [
    "df.na.drop(thresh=5).show()"
   ]
  },
  {
   "cell_type": "code",
   "execution_count": 7,
   "metadata": {},
   "outputs": [
    {
     "name": "stdout",
     "output_type": "stream",
     "text": [
      "+---+---------------+---------+-------+----------------+-------------------+\n",
      "| id|           nome|    cargo|salario|    departamento|     datadeadmissao|\n",
      "+---+---------------+---------+-------+----------------+-------------------+\n",
      "|  1|  Marcio Santos| Analista| 5000.0|        Projetos|2010-01-04 00:00:00|\n",
      "|  2|   Bruno Garcia|Instrutor| 4000.0|     Treinamento|2010-01-06 00:00:00|\n",
      "|  4|   Beatriz Dias| Gerencia| 5500.0|Recursos Humanos|2011-09-22 00:00:00|\n",
      "|  5| Sandro Correia|Instrutor| 4200.0|     Treinamento|2012-02-15 00:00:00|\n",
      "|  7|   Cacio Farias| Analista| 5100.0|        Projetos|2012-10-25 00:00:00|\n",
      "|  8|     Cezar Maia| Gerencia| 7000.0|            null|2014-02-21 00:00:00|\n",
      "|  9|   Amanda Nunes|Vendedora| 3500.0|          Vendas|2014-02-28 00:00:00|\n",
      "| 10|   Paula Priore|Vendedora| 3500.0|          Vendas|2014-03-07 00:00:00|\n",
      "| 11|     Carla Neto| Analista| 4000.0|        Projetos|2015-02-17 00:00:00|\n",
      "| 13|  Luciana Prado| Analista| 4100.0|Recursos Humanos|2015-09-17 00:00:00|\n",
      "| 14| Roberta Amaral|Vendedora| 2800.0|          Vendas|2015-10-17 00:00:00|\n",
      "| 15|Rogerio Ribeiro|Instrutor| 4000.0|     Treinamento|2010-08-04 00:00:00|\n",
      "| 17|Claudio Queiroz| Analista| 6500.0|        Projetos|2011-01-04 00:00:00|\n",
      "| 18|   Diego Chaves| Gerencia| 7500.0|   Administracao|2009-10-25 00:00:00|\n",
      "| 19|Sergio Nogueira|Instrutor| 5300.0|     Treinamento|2008-10-25 00:00:00|\n",
      "| 20|  Samantha Reis|Vendedora| 4000.0|          Vendas|2007-12-03 00:00:00|\n",
      "+---+---------------+---------+-------+----------------+-------------------+\n",
      "\n"
     ]
    }
   ],
   "source": [
    "df.na.drop(subset=[\"salario\"]).show()"
   ]
  },
  {
   "cell_type": "code",
   "execution_count": 8,
   "metadata": {},
   "outputs": [
    {
     "name": "stdout",
     "output_type": "stream",
     "text": [
      "+---+---------------+---------+-------+----------------+-------------------+\n",
      "| id|           nome|    cargo|salario|    departamento|     datadeadmissao|\n",
      "+---+---------------+---------+-------+----------------+-------------------+\n",
      "|  1|  Marcio Santos| Analista| 5000.0|        Projetos|2010-01-04 00:00:00|\n",
      "|  2|   Bruno Garcia|Instrutor| 4000.0|     Treinamento|2010-01-06 00:00:00|\n",
      "|  4|   Beatriz Dias| Gerencia| 5500.0|Recursos Humanos|2011-09-22 00:00:00|\n",
      "|  5| Sandro Correia|Instrutor| 4200.0|     Treinamento|2012-02-15 00:00:00|\n",
      "|  7|   Cacio Farias| Analista| 5100.0|        Projetos|2012-10-25 00:00:00|\n",
      "|  9|   Amanda Nunes|Vendedora| 3500.0|          Vendas|2014-02-28 00:00:00|\n",
      "| 10|   Paula Priore|Vendedora| 3500.0|          Vendas|2014-03-07 00:00:00|\n",
      "| 11|     Carla Neto| Analista| 4000.0|        Projetos|2015-02-17 00:00:00|\n",
      "| 13|  Luciana Prado| Analista| 4100.0|Recursos Humanos|2015-09-17 00:00:00|\n",
      "| 14| Roberta Amaral|Vendedora| 2800.0|          Vendas|2015-10-17 00:00:00|\n",
      "| 15|Rogerio Ribeiro|Instrutor| 4000.0|     Treinamento|2010-08-04 00:00:00|\n",
      "| 17|Claudio Queiroz| Analista| 6500.0|        Projetos|2011-01-04 00:00:00|\n",
      "| 18|   Diego Chaves| Gerencia| 7500.0|   Administracao|2009-10-25 00:00:00|\n",
      "| 19|Sergio Nogueira|Instrutor| 5300.0|     Treinamento|2008-10-25 00:00:00|\n",
      "| 20|  Samantha Reis|Vendedora| 4000.0|          Vendas|2007-12-03 00:00:00|\n",
      "+---+---------------+---------+-------+----------------+-------------------+\n",
      "\n"
     ]
    }
   ],
   "source": [
    "df.na.drop(how='any').show()"
   ]
  },
  {
   "cell_type": "code",
   "execution_count": 9,
   "metadata": {},
   "outputs": [
    {
     "name": "stdout",
     "output_type": "stream",
     "text": [
      "+---+---------------+---------+-------+----------------+-------------------+\n",
      "| id|           nome|    cargo|salario|    departamento|     datadeadmissao|\n",
      "+---+---------------+---------+-------+----------------+-------------------+\n",
      "|  1|  Marcio Santos| Analista| 5000.0|        Projetos|2010-01-04 00:00:00|\n",
      "|  2|   Bruno Garcia|Instrutor| 4000.0|     Treinamento|2010-01-06 00:00:00|\n",
      "|  3|    Celia Silva|Vendedora|   null|            null|2011-02-07 00:00:00|\n",
      "|  4|   Beatriz Dias| Gerencia| 5500.0|Recursos Humanos|2011-09-22 00:00:00|\n",
      "|  5| Sandro Correia|Instrutor| 4200.0|     Treinamento|2012-02-15 00:00:00|\n",
      "|  6|   Leticia Dias| Analista|   null|        Projetos|2012-04-26 00:00:00|\n",
      "|  7|   Cacio Farias| Analista| 5100.0|        Projetos|2012-10-25 00:00:00|\n",
      "|  8|     Cezar Maia| Gerencia| 7000.0|            null|2014-02-21 00:00:00|\n",
      "|  9|   Amanda Nunes|Vendedora| 3500.0|          Vendas|2014-02-28 00:00:00|\n",
      "| 10|   Paula Priore|Vendedora| 3500.0|          Vendas|2014-03-07 00:00:00|\n",
      "| 11|     Carla Neto| Analista| 4000.0|        Projetos|2015-02-17 00:00:00|\n",
      "| 12|   Marcia Costa|Vendedora|   null|            null|2015-02-17 00:00:00|\n",
      "| 13|  Luciana Prado| Analista| 4100.0|Recursos Humanos|2015-09-17 00:00:00|\n",
      "| 14| Roberta Amaral|Vendedora| 2800.0|          Vendas|2015-10-17 00:00:00|\n",
      "| 15|Rogerio Ribeiro|Instrutor| 4000.0|     Treinamento|2010-08-04 00:00:00|\n",
      "| 16|   Rosana Rocha|Vendedora|   null|          Vendas|2010-09-04 00:00:00|\n",
      "| 17|Claudio Queiroz| Analista| 6500.0|        Projetos|2011-01-04 00:00:00|\n",
      "| 18|   Diego Chaves| Gerencia| 7500.0|   Administracao|2009-10-25 00:00:00|\n",
      "| 19|Sergio Nogueira|Instrutor| 5300.0|     Treinamento|2008-10-25 00:00:00|\n",
      "| 20|  Samantha Reis|Vendedora| 4000.0|          Vendas|2007-12-03 00:00:00|\n",
      "+---+---------------+---------+-------+----------------+-------------------+\n",
      "\n"
     ]
    }
   ],
   "source": [
    "df.na.drop(how='all').show()"
   ]
  },
  {
   "cell_type": "code",
   "execution_count": 10,
   "metadata": {},
   "outputs": [
    {
     "name": "stdout",
     "output_type": "stream",
     "text": [
      "+---+---------------+---------+-------+----------------+-------------------+\n",
      "| id|           nome|    cargo|salario|    departamento|     datadeadmissao|\n",
      "+---+---------------+---------+-------+----------------+-------------------+\n",
      "|  1|  Marcio Santos| Analista| 5000.0|        Projetos|2010-01-04 00:00:00|\n",
      "|  2|   Bruno Garcia|Instrutor| 4000.0|     Treinamento|2010-01-06 00:00:00|\n",
      "|  3|    Celia Silva|Vendedora|   null|        NÃO NULO|2011-02-07 00:00:00|\n",
      "|  4|   Beatriz Dias| Gerencia| 5500.0|Recursos Humanos|2011-09-22 00:00:00|\n",
      "|  5| Sandro Correia|Instrutor| 4200.0|     Treinamento|2012-02-15 00:00:00|\n",
      "|  6|   Leticia Dias| Analista|   null|        Projetos|2012-04-26 00:00:00|\n",
      "|  7|   Cacio Farias| Analista| 5100.0|        Projetos|2012-10-25 00:00:00|\n",
      "|  8|     Cezar Maia| Gerencia| 7000.0|        NÃO NULO|2014-02-21 00:00:00|\n",
      "|  9|   Amanda Nunes|Vendedora| 3500.0|          Vendas|2014-02-28 00:00:00|\n",
      "| 10|   Paula Priore|Vendedora| 3500.0|          Vendas|2014-03-07 00:00:00|\n",
      "| 11|     Carla Neto| Analista| 4000.0|        Projetos|2015-02-17 00:00:00|\n",
      "| 12|   Marcia Costa|Vendedora|   null|        NÃO NULO|2015-02-17 00:00:00|\n",
      "| 13|  Luciana Prado| Analista| 4100.0|Recursos Humanos|2015-09-17 00:00:00|\n",
      "| 14| Roberta Amaral|Vendedora| 2800.0|          Vendas|2015-10-17 00:00:00|\n",
      "| 15|Rogerio Ribeiro|Instrutor| 4000.0|     Treinamento|2010-08-04 00:00:00|\n",
      "| 16|   Rosana Rocha|Vendedora|   null|          Vendas|2010-09-04 00:00:00|\n",
      "| 17|Claudio Queiroz| Analista| 6500.0|        Projetos|2011-01-04 00:00:00|\n",
      "| 18|   Diego Chaves| Gerencia| 7500.0|   Administracao|2009-10-25 00:00:00|\n",
      "| 19|Sergio Nogueira|Instrutor| 5300.0|     Treinamento|2008-10-25 00:00:00|\n",
      "| 20|  Samantha Reis|Vendedora| 4000.0|          Vendas|2007-12-03 00:00:00|\n",
      "+---+---------------+---------+-------+----------------+-------------------+\n",
      "\n"
     ]
    }
   ],
   "source": [
    "df.na.fill('NÃO NULO').show()"
   ]
  },
  {
   "cell_type": "code",
   "execution_count": 11,
   "metadata": {},
   "outputs": [
    {
     "name": "stdout",
     "output_type": "stream",
     "text": [
      "+---+---------------+---------+-------+----------------+-------------------+\n",
      "| id|           nome|    cargo|salario|    departamento|     datadeadmissao|\n",
      "+---+---------------+---------+-------+----------------+-------------------+\n",
      "|  1|  Marcio Santos| Analista| 5000.0|        Projetos|2010-01-04 00:00:00|\n",
      "|  2|   Bruno Garcia|Instrutor| 4000.0|     Treinamento|2010-01-06 00:00:00|\n",
      "|  3|    Celia Silva|Vendedora|    0.0|            null|2011-02-07 00:00:00|\n",
      "|  4|   Beatriz Dias| Gerencia| 5500.0|Recursos Humanos|2011-09-22 00:00:00|\n",
      "|  5| Sandro Correia|Instrutor| 4200.0|     Treinamento|2012-02-15 00:00:00|\n",
      "|  6|   Leticia Dias| Analista|    0.0|        Projetos|2012-04-26 00:00:00|\n",
      "|  7|   Cacio Farias| Analista| 5100.0|        Projetos|2012-10-25 00:00:00|\n",
      "|  8|     Cezar Maia| Gerencia| 7000.0|            null|2014-02-21 00:00:00|\n",
      "|  9|   Amanda Nunes|Vendedora| 3500.0|          Vendas|2014-02-28 00:00:00|\n",
      "| 10|   Paula Priore|Vendedora| 3500.0|          Vendas|2014-03-07 00:00:00|\n",
      "| 11|     Carla Neto| Analista| 4000.0|        Projetos|2015-02-17 00:00:00|\n",
      "| 12|   Marcia Costa|Vendedora|    0.0|            null|2015-02-17 00:00:00|\n",
      "| 13|  Luciana Prado| Analista| 4100.0|Recursos Humanos|2015-09-17 00:00:00|\n",
      "| 14| Roberta Amaral|Vendedora| 2800.0|          Vendas|2015-10-17 00:00:00|\n",
      "| 15|Rogerio Ribeiro|Instrutor| 4000.0|     Treinamento|2010-08-04 00:00:00|\n",
      "| 16|   Rosana Rocha|Vendedora|    0.0|          Vendas|2010-09-04 00:00:00|\n",
      "| 17|Claudio Queiroz| Analista| 6500.0|        Projetos|2011-01-04 00:00:00|\n",
      "| 18|   Diego Chaves| Gerencia| 7500.0|   Administracao|2009-10-25 00:00:00|\n",
      "| 19|Sergio Nogueira|Instrutor| 5300.0|     Treinamento|2008-10-25 00:00:00|\n",
      "| 20|  Samantha Reis|Vendedora| 4000.0|          Vendas|2007-12-03 00:00:00|\n",
      "+---+---------------+---------+-------+----------------+-------------------+\n",
      "\n"
     ]
    }
   ],
   "source": [
    "df.na.fill(0).show()"
   ]
  },
  {
   "cell_type": "code",
   "execution_count": 12,
   "metadata": {},
   "outputs": [
    {
     "name": "stdout",
     "output_type": "stream",
     "text": [
      "+---+---------------+---------+-------+----------------+-------------------+\n",
      "| id|           nome|    cargo|salario|    departamento|     datadeadmissao|\n",
      "+---+---------------+---------+-------+----------------+-------------------+\n",
      "|  1|  Marcio Santos| Analista| 5000.0|        Projetos|2010-01-04 00:00:00|\n",
      "|  2|   Bruno Garcia|Instrutor| 4000.0|     Treinamento|2010-01-06 00:00:00|\n",
      "|  3|    Celia Silva|Vendedora|   null|        NÃO NULO|2011-02-07 00:00:00|\n",
      "|  4|   Beatriz Dias| Gerencia| 5500.0|Recursos Humanos|2011-09-22 00:00:00|\n",
      "|  5| Sandro Correia|Instrutor| 4200.0|     Treinamento|2012-02-15 00:00:00|\n",
      "|  6|   Leticia Dias| Analista|   null|        Projetos|2012-04-26 00:00:00|\n",
      "|  7|   Cacio Farias| Analista| 5100.0|        Projetos|2012-10-25 00:00:00|\n",
      "|  8|     Cezar Maia| Gerencia| 7000.0|        NÃO NULO|2014-02-21 00:00:00|\n",
      "|  9|   Amanda Nunes|Vendedora| 3500.0|          Vendas|2014-02-28 00:00:00|\n",
      "| 10|   Paula Priore|Vendedora| 3500.0|          Vendas|2014-03-07 00:00:00|\n",
      "| 11|     Carla Neto| Analista| 4000.0|        Projetos|2015-02-17 00:00:00|\n",
      "| 12|   Marcia Costa|Vendedora|   null|        NÃO NULO|2015-02-17 00:00:00|\n",
      "| 13|  Luciana Prado| Analista| 4100.0|Recursos Humanos|2015-09-17 00:00:00|\n",
      "| 14| Roberta Amaral|Vendedora| 2800.0|          Vendas|2015-10-17 00:00:00|\n",
      "| 15|Rogerio Ribeiro|Instrutor| 4000.0|     Treinamento|2010-08-04 00:00:00|\n",
      "| 16|   Rosana Rocha|Vendedora|   null|          Vendas|2010-09-04 00:00:00|\n",
      "| 17|Claudio Queiroz| Analista| 6500.0|        Projetos|2011-01-04 00:00:00|\n",
      "| 18|   Diego Chaves| Gerencia| 7500.0|   Administracao|2009-10-25 00:00:00|\n",
      "| 19|Sergio Nogueira|Instrutor| 5300.0|     Treinamento|2008-10-25 00:00:00|\n",
      "| 20|  Samantha Reis|Vendedora| 4000.0|          Vendas|2007-12-03 00:00:00|\n",
      "+---+---------------+---------+-------+----------------+-------------------+\n",
      "\n"
     ]
    }
   ],
   "source": [
    "df.na.fill('NÃO NULO',subset=['departamento']).show()"
   ]
  },
  {
   "cell_type": "code",
   "execution_count": 13,
   "metadata": {},
   "outputs": [
    {
     "name": "stdout",
     "output_type": "stream",
     "text": [
      "+------------+\n",
      "|avg(salario)|\n",
      "+------------+\n",
      "|      4750.0|\n",
      "+------------+\n",
      "\n"
     ]
    }
   ],
   "source": [
    "from pyspark.sql.functions import mean\n",
    "mean_val = df.select(mean(df['salario'])).show()"
   ]
  },
  {
   "cell_type": "code",
   "execution_count": 14,
   "metadata": {},
   "outputs": [
    {
     "name": "stdout",
     "output_type": "stream",
     "text": [
      "+---+---------------+---------+-------+----------------+-------------------+\n",
      "| id|           nome|    cargo|salario|    departamento|     datadeadmissao|\n",
      "+---+---------------+---------+-------+----------------+-------------------+\n",
      "|  1|  Marcio Santos| Analista| 5000.0|        Projetos|2010-01-04 00:00:00|\n",
      "|  2|   Bruno Garcia|Instrutor| 4000.0|     Treinamento|2010-01-06 00:00:00|\n",
      "|  3|    Celia Silva|Vendedora| 4750.0|            null|2011-02-07 00:00:00|\n",
      "|  4|   Beatriz Dias| Gerencia| 5500.0|Recursos Humanos|2011-09-22 00:00:00|\n",
      "|  5| Sandro Correia|Instrutor| 4200.0|     Treinamento|2012-02-15 00:00:00|\n",
      "|  6|   Leticia Dias| Analista| 4750.0|        Projetos|2012-04-26 00:00:00|\n",
      "|  7|   Cacio Farias| Analista| 5100.0|        Projetos|2012-10-25 00:00:00|\n",
      "|  8|     Cezar Maia| Gerencia| 7000.0|            null|2014-02-21 00:00:00|\n",
      "|  9|   Amanda Nunes|Vendedora| 3500.0|          Vendas|2014-02-28 00:00:00|\n",
      "| 10|   Paula Priore|Vendedora| 3500.0|          Vendas|2014-03-07 00:00:00|\n",
      "| 11|     Carla Neto| Analista| 4000.0|        Projetos|2015-02-17 00:00:00|\n",
      "| 12|   Marcia Costa|Vendedora| 4750.0|            null|2015-02-17 00:00:00|\n",
      "| 13|  Luciana Prado| Analista| 4100.0|Recursos Humanos|2015-09-17 00:00:00|\n",
      "| 14| Roberta Amaral|Vendedora| 2800.0|          Vendas|2015-10-17 00:00:00|\n",
      "| 15|Rogerio Ribeiro|Instrutor| 4000.0|     Treinamento|2010-08-04 00:00:00|\n",
      "| 16|   Rosana Rocha|Vendedora| 4750.0|          Vendas|2010-09-04 00:00:00|\n",
      "| 17|Claudio Queiroz| Analista| 6500.0|        Projetos|2011-01-04 00:00:00|\n",
      "| 18|   Diego Chaves| Gerencia| 7500.0|   Administracao|2009-10-25 00:00:00|\n",
      "| 19|Sergio Nogueira|Instrutor| 5300.0|     Treinamento|2008-10-25 00:00:00|\n",
      "| 20|  Samantha Reis|Vendedora| 4000.0|          Vendas|2007-12-03 00:00:00|\n",
      "+---+---------------+---------+-------+----------------+-------------------+\n",
      "\n"
     ]
    }
   ],
   "source": [
    "df.na.fill(4750.0,[\"salario\"]).show()"
   ]
  },
  {
   "cell_type": "code",
   "execution_count": null,
   "metadata": {},
   "outputs": [],
   "source": []
  }
 ],
 "metadata": {
  "kernelspec": {
   "display_name": "Python 3",
   "language": "python",
   "name": "python3"
  },
  "language_info": {
   "codemirror_mode": {
    "name": "ipython",
    "version": 3
   },
   "file_extension": ".py",
   "mimetype": "text/x-python",
   "name": "python",
   "nbconvert_exporter": "python",
   "pygments_lexer": "ipython3",
   "version": "3.7.3"
  }
 },
 "nbformat": 4,
 "nbformat_minor": 2
}
