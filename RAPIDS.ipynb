{
  "nbformat": 4,
  "nbformat_minor": 0,
  "metadata": {
    "colab": {
      "name": "RAPIDS.ipynb",
      "provenance": []
    },
    "kernelspec": {
      "name": "python3",
      "display_name": "Python 3"
    },
    "accelerator": "GPU"
  },
  "cells": [
    {
      "cell_type": "code",
      "metadata": {
        "id": "3aYp50qPoXtu",
        "colab_type": "code",
        "colab": {
          "base_uri": "https://localhost:8080/",
          "height": 829
        },
        "outputId": "e6472884-9f4d-4770-dd84-c44125750dce"
      },
      "source": [
        "# clone RAPIDS AI rapidsai-csp-utils scripts repo\n",
        "!git clone https://github.com/rapidsai/rapidsai-csp-utils.git\n",
        "\n",
        "# install RAPIDS\n",
        "!bash rapidsai-csp-utils/colab/rapids-colab.sh\n",
        "\n",
        "import sys, os\n",
        "# set necessary environment variables \n",
        "dist_package_index = sys.path.index('/usr/local/lib/python3.6/dist-packages')\n",
        "sys.path = sys.path[:dist_package_index] + ['/usr/local/lib/python3.6/site-packages'] + sys.path[dist_package_index:]\n",
        "sys.path\n",
        "\n",
        "# update pyarrow & modules \n",
        "exec(open('rapidsai-csp-utils/colab/update_modules.py').read(), globals())"
      ],
      "execution_count": 1,
      "outputs": [
        {
          "output_type": "stream",
          "text": [
            "fatal: destination path 'rapidsai-csp-utils' already exists and is not an empty directory.\n",
            "PLEASE READ\n",
            "********************************************************************************************************\n",
            "Changes:\n",
            "1. Now that most people have migrated, we have rem0ved the migration notice.\n",
            "2. default stable version is now 0.13.  Nightly is now 0.14\n",
            "3. You can now declare your RAPIDS version as a CLI option and skip the user prompts (ex: '0.13' or '0.14', between 0.11 to 0.14, without the quotes): \n",
            "        \"!bash rapidsai-csp-utils/colab/rapids-colab.sh <version/label>\"\n",
            "        Examples: '!bash rapidsai-csp-utils/colab/rapids-colab.sh 0.13', or '!bash rapidsai-csp-utils/colab/rapids-colab.sh stable', or '!bash rapidsai-csp-utils/colab/rapids-colab.sh s'\n",
            "                  '!bash rapidsai-csp-utils/colab/rapids-colab.sh 0.14, or '!bash rapidsai-csp-utils/colab/rapids-colab.sh nightly', or '!bash rapidsai-csp-utils/colab/rapids-colab.sh n'\n",
            "Enjoy using RAPIDS!\n",
            "As you didn't specify a RAPIDS version, please enter in the box your desired RAPIDS version (ex: '0.11' or '0.12', between 0.11 to 0.14, without the quotes)\n",
            "and hit Enter. If you need stability, use 0.13. If you want bleeding edge, use our nightly version (0.14), but understand that caveats that come with nightly versions.\n",
            "0.13\n",
            "RAPIDS Version to install is 0.13\n",
            "Checking for GPU type:\n",
            "***********************************************************************\n",
            "Woo! Your instance has the right kind of GPU, a 'Tesla P100-PCIE-16GB'!\n",
            "***********************************************************************\n",
            "\n",
            "\n",
            "************************************************\n",
            "Your Google Colab instance has RAPIDS installed!\n",
            "************************************************\n",
            "***********************************************************************\n",
            "Let us check on those pyarrow and cffi versions...\n",
            "***********************************************************************\n",
            "\n",
            "unloaded pyarrow 0.14.1\n",
            "unloaded pyarrow 0.14.1\n",
            "unloaded pyarrow 0.14.1\n",
            "unloaded pyarrow 0.14.1\n",
            "unloaded pyarrow 0.14.1\n",
            "unloaded pyarrow 0.14.1\n",
            "unloaded pyarrow 0.14.1\n",
            "unloaded pyarrow 0.14.1\n",
            "unloaded pyarrow 0.14.1\n",
            "unloaded pyarrow 0.14.1\n",
            "unloaded pyarrow 0.14.1\n",
            "unloaded pyarrow 0.14.1\n",
            "loaded pyarrow 0.15.0\n",
            "You're now running pyarrow 0.15.0 and are good to go!\n",
            "unloaded cffi 1.14.0\n",
            "loaded cffi 1.11.5\n"
          ],
          "name": "stdout"
        }
      ]
    },
    {
      "cell_type": "code",
      "metadata": {
        "id": "lagwPakctbjT",
        "colab_type": "code",
        "colab": {
          "base_uri": "https://localhost:8080/",
          "height": 593
        },
        "outputId": "1a0c1f96-58de-4fb3-8ee4-d53a4213d945"
      },
      "source": [
        "! conda install -c rapidsai cudf"
      ],
      "execution_count": 4,
      "outputs": [
        {
          "output_type": "stream",
          "text": [
            "Collecting package metadata (current_repodata.json): - \b\b\\ \b\b| \b\b/ \b\b- \b\b\\ \b\b| \b\b/ \b\b- \b\b\\ \b\b| \b\b/ \b\b- \b\b\\ \b\b| \b\b/ \b\b- \b\bdone\n",
            "Solving environment: | \b\b/ \b\b- \b\b\\ \b\b| \b\b/ \b\b- \b\b\\ \b\b| \b\b/ \b\b- \b\b\\ \b\b| \b\b/ \b\b- \b\b\\ \b\b| \b\b/ \b\b- \b\b\\ \b\b| \b\b/ \b\b- \b\b\\ \b\b| \b\b/ \b\b- \b\b\\ \b\b| \b\b/ \b\b- \b\bdone\n",
            "\n",
            "## Package Plan ##\n",
            "\n",
            "  environment location: /usr/local\n",
            "\n",
            "  added / updated specs:\n",
            "    - cudf\n",
            "\n",
            "\n",
            "The following packages will be downloaded:\n",
            "\n",
            "    package                    |            build\n",
            "    ---------------------------|-----------------\n",
            "    cudf-0.13.0                |           py36_0        32.7 MB  rapidsai\n",
            "    ------------------------------------------------------------\n",
            "                                           Total:        32.7 MB\n",
            "\n",
            "The following packages will be SUPERSEDED by a higher-priority channel:\n",
            "\n",
            "  cudf                                  rapidsai/label/main --> rapidsai\n",
            "\n",
            "\n",
            "Proceed ([y]/n)? y\n",
            "\n",
            "\n",
            "Downloading and Extracting Packages\n",
            "cudf-0.13.0          | 32.7 MB   | : 100% 1.0/1 [00:06<00:00, 62.70s/it]               \n",
            "Preparing transaction: | \b\bdone\n",
            "Verifying transaction: - \b\b\\ \b\b| \b\b/ \b\b- \b\b\\ \b\b| \b\b/ \b\bdone\n",
            "Executing transaction: \\ \b\bdone\n"
          ],
          "name": "stdout"
        }
      ]
    },
    {
      "cell_type": "code",
      "metadata": {
        "id": "PIOAOSQDoJLh",
        "colab_type": "code",
        "colab": {
          "base_uri": "https://localhost:8080/",
          "height": 161
        },
        "outputId": "b0260257-9bbb-4986-b5a2-79d81f4f93f3"
      },
      "source": [
        "import cudf, io, requests\n",
        "from io import StringIO\n",
        "\n",
        "url = \"https://github.com/plotly/datasets/raw/master/tips.csv\"\n",
        "content = requests.get(url).content.decode('utf-8')\n",
        "\n",
        "tips_df = cudf.read_csv(StringIO(content))\n",
        "tips_df['tip_percentage'] = tips_df['tip'] / tips_df['total_bill'] * 100\n",
        "\n",
        "# display average tip by dining party size\n",
        "print(tips_df.groupby('size').tip_percentage.mean())"
      ],
      "execution_count": 5,
      "outputs": [
        {
          "output_type": "stream",
          "text": [
            "size\n",
            "1    21.729202\n",
            "2    16.571919\n",
            "3    15.215685\n",
            "4    14.594901\n",
            "5    14.149549\n",
            "6    15.622920\n",
            "Name: tip_percentage, dtype: float64\n"
          ],
          "name": "stdout"
        }
      ]
    }
  ]
}