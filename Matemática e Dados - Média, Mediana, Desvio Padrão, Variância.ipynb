{
 "cells": [
  {
   "cell_type": "markdown",
   "metadata": {},
   "source": [
    "# Mean, Median, Mode e introdução do NumPy"
   ]
  },
  {
   "cell_type": "markdown",
   "metadata": {},
   "source": [
    "## Média vs. Mediana"
   ]
  },
  {
   "cell_type": "markdown",
   "metadata": {},
   "source": [
    "Vamos criar alguns dados de renda falsos, centrados em torno de 27.000 com uma distribuição normal e desvio padrão de 15.000, com 10.000 pontos de dados.\n",
    "\n",
    "Em seguida, calcule a média (média) - deve estar próximo de 27.000:"
   ]
  },
  {
   "cell_type": "code",
   "execution_count": 1,
   "metadata": {},
   "outputs": [
    {
     "data": {
      "text/plain": [
       "27186.89059972917"
      ]
     },
     "execution_count": 1,
     "metadata": {},
     "output_type": "execute_result"
    }
   ],
   "source": [
    "import numpy as np\n",
    "\n",
    "incomes = np.random.normal(27000, 15000, 10000)\n",
    "np.mean(incomes)"
   ]
  },
  {
   "cell_type": "markdown",
   "metadata": {},
   "source": [
    "Podemos segmentar os dados de receita em 50 intervalos e plotá-los como um histograma:"
   ]
  },
  {
   "cell_type": "code",
   "execution_count": 2,
   "metadata": {},
   "outputs": [
    {
     "data": {
      "image/png": "[encoded data removed]",
      "text/plain": [
       "<Figure size 432x288 with 1 Axes>"
      ]
     },
     "metadata": {
      "needs_background": "light"
     },
     "output_type": "display_data"
    }
   ],
   "source": [
    "%matplotlib inline\n",
    "import matplotlib.pyplot as plt\n",
    "plt.hist(incomes, 50)\n",
    "plt.show()"
   ]
  },
  {
   "cell_type": "markdown",
   "metadata": {},
   "source": [
    "Agora calcule a mediana - já que temos uma distribuição boa e uniforme, ela também deve estar perto de 27.000:"
   ]
  },
  {
   "cell_type": "code",
   "execution_count": 3,
   "metadata": {},
   "outputs": [
    {
     "data": {
      "text/plain": [
       "26928.838725433598"
      ]
     },
     "execution_count": 3,
     "metadata": {},
     "output_type": "execute_result"
    }
   ],
   "source": [
    "np.median(incomes)"
   ]
  },
  {
   "cell_type": "markdown",
   "metadata": {},
   "source": [
    "Agora vamos adicionar Donald Trump na mistura. Desigualdade de renda!"
   ]
  },
  {
   "cell_type": "code",
   "execution_count": 4,
   "metadata": {},
   "outputs": [],
   "source": [
    "incomes = np.append(incomes, [1000000000])"
   ]
  },
  {
   "cell_type": "markdown",
   "metadata": {},
   "source": [
    "A mediana não vai mudar muito, mas a média sim:"
   ]
  },
  {
   "cell_type": "code",
   "execution_count": 5,
   "metadata": {},
   "outputs": [
    {
     "data": {
      "text/plain": [
       "26930.14765372398"
      ]
     },
     "execution_count": 5,
     "metadata": {},
     "output_type": "execute_result"
    }
   ],
   "source": [
    "np.median(incomes)"
   ]
  },
  {
   "cell_type": "code",
   "execution_count": 6,
   "metadata": {},
   "outputs": [
    {
     "data": {
      "text/plain": [
       "127174.17318241094"
      ]
     },
     "execution_count": 6,
     "metadata": {},
     "output_type": "execute_result"
    }
   ],
   "source": [
    "np.mean(incomes)"
   ]
  },
  {
   "cell_type": "markdown",
   "metadata": {},
   "source": [
    "## Moda"
   ]
  },
  {
   "cell_type": "markdown",
   "metadata": {},
   "source": [
    "Em seguida, vamos gerar alguns dados de idade falsos para 500 pessoas:"
   ]
  },
  {
   "cell_type": "code",
   "execution_count": 7,
   "metadata": {},
   "outputs": [
    {
     "data": {
      "text/plain": [
       "array([22, 67, 23, 64, 48, 44, 46, 20, 48, 24, 52, 22, 36, 86, 62, 79, 39,\n",
       "       70, 24, 58, 65, 55, 60, 85, 72, 39, 80, 71, 40, 43, 35, 43, 70, 65,\n",
       "       82, 28, 81, 51, 69, 37, 29, 32, 42, 89, 35, 18, 23, 27, 57, 51, 79,\n",
       "       25, 36, 19, 64, 36, 34, 43, 67, 86, 22, 35, 45, 27, 58, 80, 89, 20,\n",
       "       45, 79, 57, 85, 46, 29, 73, 51, 40, 40, 24, 55, 56, 66, 26, 31, 67,\n",
       "       26, 89, 80, 28, 50, 72, 66, 43, 56, 83, 83, 57, 37, 20, 89, 37, 33,\n",
       "       42, 27, 73, 21, 60, 32, 81, 62, 74, 28, 66, 41, 40, 46, 19, 39, 79,\n",
       "       55, 63, 61, 63, 20, 41, 65, 68, 68, 55, 61, 42, 47, 62, 88, 62, 71,\n",
       "       48, 55, 71, 55, 41, 41, 28, 58, 88, 83, 53, 75, 59, 39, 72, 88, 84,\n",
       "       30, 73, 47, 47, 74, 88, 72, 89, 78, 47, 27, 21, 66, 82, 20, 63, 29,\n",
       "       83, 86, 81, 79, 40, 86, 88, 30, 22, 22, 51, 82, 58, 76, 26, 28, 57,\n",
       "       64, 22, 56, 79, 22, 73, 76, 28, 85, 41, 40, 38, 61, 72, 27, 54, 53,\n",
       "       57, 71, 36, 25, 87, 46, 85, 75, 69, 27, 80, 73, 38, 74, 27, 27, 69,\n",
       "       88, 75, 52, 54, 58, 77, 88, 54, 80, 75, 51, 24, 82, 61, 20, 46, 26,\n",
       "       53, 52, 43, 79, 37, 30, 22, 24, 46, 65, 53, 71, 88, 31, 18, 65, 62,\n",
       "       41, 80, 41, 77, 64, 77, 24, 22, 69, 57, 89, 32, 46, 60, 74, 81, 64,\n",
       "       45, 24, 61, 23, 61, 67, 28, 43, 88, 89, 40, 76, 62, 35, 21, 25, 26,\n",
       "       82, 19, 85, 28, 49, 37, 22, 38, 46, 50, 73, 48, 83, 83, 40, 31, 42,\n",
       "       55, 26, 34, 43, 18, 61, 73, 48, 68, 77, 79, 23, 23, 83, 32, 46, 34,\n",
       "       27, 39, 74, 54, 53, 82, 23, 20, 68, 19, 48, 44, 36, 71, 33, 56, 24,\n",
       "       21, 66, 19, 20, 56, 74, 42, 72, 86, 40, 78, 61, 55, 56, 70, 86, 36,\n",
       "       71, 81, 82, 44, 31, 41, 30, 31, 75, 38, 85, 31, 84, 40, 55, 75, 55,\n",
       "       29, 20, 84, 86, 73, 27, 65, 66, 72, 66, 31, 18, 59, 35, 35, 72, 34,\n",
       "       60, 57, 55, 66, 50, 45, 58, 47, 32, 69, 56, 46, 81, 28, 69, 58, 76,\n",
       "       69, 84, 75, 36, 18, 59, 23, 59, 51, 73, 29, 42, 26, 62, 72, 57, 35,\n",
       "       54, 58, 40, 46, 57, 30, 64, 43, 89, 61, 82, 87, 70, 68, 55, 67, 51,\n",
       "       28, 47, 87, 72, 80, 51, 47, 72, 61, 43, 66, 60, 58, 40, 24, 35, 56,\n",
       "       86, 81, 74, 89, 40, 64, 31, 36, 33, 53, 86, 33, 70, 44, 29, 51, 31,\n",
       "       87, 57, 19, 66, 79, 78, 44, 47, 30, 39, 72, 62, 72, 24, 57, 52, 86,\n",
       "       83, 21, 57, 83, 47, 42, 24])"
      ]
     },
     "execution_count": 7,
     "metadata": {},
     "output_type": "execute_result"
    }
   ],
   "source": [
    "ages = np.random.randint(18, high=90, size=500)\n",
    "ages"
   ]
  },
  {
   "cell_type": "code",
   "execution_count": 8,
   "metadata": {},
   "outputs": [
    {
     "data": {
      "text/plain": [
       "ModeResult(mode=array([40]), count=array([13]))"
      ]
     },
     "execution_count": 8,
     "metadata": {},
     "output_type": "execute_result"
    }
   ],
   "source": [
    "from scipy import stats\n",
    "stats.mode(ages)"
   ]
  },
  {
   "cell_type": "markdown",
   "metadata": {},
   "source": [
    "## Desvio padrão e variância"
   ]
  },
  {
   "cell_type": "code",
   "execution_count": 9,
   "metadata": {},
   "outputs": [
    {
     "data": {
      "image/png": "[encoded data removed]",
      "text/plain": [
       "<Figure size 432x288 with 1 Axes>"
      ]
     },
     "metadata": {
      "needs_background": "light"
     },
     "output_type": "display_data"
    }
   ],
   "source": [
    "%matplotlib inline\n",
    "import numpy as np\n",
    "import matplotlib.pyplot as plt\n",
    "\n",
    "incomes = np.random.normal(100.0, 50.0, 10000)\n",
    "\n",
    "plt.hist(incomes, 50)\n",
    "plt.show()"
   ]
  },
  {
   "cell_type": "code",
   "execution_count": 10,
   "metadata": {},
   "outputs": [
    {
     "data": {
      "text/plain": [
       "50.290063336719676"
      ]
     },
     "execution_count": 10,
     "metadata": {},
     "output_type": "execute_result"
    }
   ],
   "source": [
    "incomes.std()"
   ]
  },
  {
   "cell_type": "code",
   "execution_count": 11,
   "metadata": {},
   "outputs": [
    {
     "data": {
      "text/plain": [
       "2529.090470411277"
      ]
     },
     "execution_count": 11,
     "metadata": {},
     "output_type": "execute_result"
    }
   ],
   "source": [
    "incomes.var()"
   ]
  },
  {
   "cell_type": "code",
   "execution_count": null,
   "metadata": {},
   "outputs": [],
   "source": []
  }
 ],
 "metadata": {
  "kernelspec": {
   "display_name": "Python 3",
   "language": "python",
   "name": "python3"
  },
  "language_info": {
   "codemirror_mode": {
    "name": "ipython",
    "version": 3
   },
   "file_extension": ".py",
   "mimetype": "text/x-python",
   "name": "python",
   "nbconvert_exporter": "python",
   "pygments_lexer": "ipython3",
   "version": "3.7.4"
  }
 },
 "nbformat": 4,
 "nbformat_minor": 1
}
